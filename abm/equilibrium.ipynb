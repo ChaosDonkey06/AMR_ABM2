{
 "cells": [
  {
   "cell_type": "code",
   "execution_count": 25,
   "metadata": {},
   "outputs": [
    {
     "data": {
      "text/plain": [
       "[((β*σa + σd**2 + σd*τ - sqrt(β**2*σa**2 + 4*β*γ*σa*σd**2 - 2*β*σa*σd**2 - 2*β*σa*σd*τ + σd**4 + 2*σd**3*τ + σd**2*τ**2))/(2*β*σd),\n",
       "  (β*σa - σd**2 - σd*τ)/(2*β*σd) + sqrt(β**2*σa**2 + 4*β*γ*σa*σd**2 - 2*β*σa*σd**2 - 2*β*σa*σd*τ + σd**4 + 2*σd**3*τ + σd**2*τ**2)/(2*β*σd),\n",
       "  σa/σd),\n",
       " ((β*σa + σd**2 + σd*τ + sqrt(β**2*σa**2 + 4*β*γ*σa*σd**2 - 2*β*σa*σd**2 - 2*β*σa*σd*τ + σd**4 + 2*σd**3*τ + σd**2*τ**2))/(2*β*σd),\n",
       "  (β*σa - σd**2 - σd*τ)/(2*β*σd) - sqrt(β**2*σa**2 + 4*β*γ*σa*σd**2 - 2*β*σa*σd**2 - 2*β*σa*σd*τ + σd**4 + 2*σd**3*τ + σd**2*τ**2)/(2*β*σd),\n",
       "  σa/σd)]"
      ]
     },
     "execution_count": 25,
     "metadata": {},
     "output_type": "execute_result"
    }
   ],
   "source": [
    "from sympy import symbols, var, Eq, solve\n",
    "from sympy import Derivative as D\n",
    "\n",
    "# parameters\n",
    "γ, β, τ, σa, σd, Nw = symbols(\"γ β τ σa σd Nw\")\n",
    "\n",
    "# variables\n",
    "S, C, N = var(\"S C N\")\n",
    "\n",
    "\n",
    "eq_S   = Eq( (1-γ)   * σa - β * S*C    + τ*C - D, 0)\n",
    "eq_C   = Eq(  γ      * σa + β * S*C - τ*C    - D, 0)\n",
    "eq_N   = Eq( σa - σd * N, 0)\n",
    "eq_pop = Eq( S + C , N)\n",
    "\n",
    "equilibria =  solve([eq_S, eq_C, eq_N, eq_pop], [S, C, N])\n",
    "equilibria"
   ]
  },
  {
   "cell_type": "code",
   "execution_count": 33,
   "metadata": {},
   "outputs": [
    {
     "name": "stdout",
     "output_type": "stream",
     "text": [
      "(β*σa + σd**2 + σd*τ - sqrt(β**2*σa**2 + 4*β*γ*σa*σd**2 - 2*β*σa*σd**2 - 2*β*σa*σd*τ + σd**4 + 2*σd**3*τ + σd**2*τ**2))/(2*β*σd)\n",
      "(β*σa - σd**2 - σd*τ + sqrt(β**2*σa**2 + 4*β*γ*σa*σd**2 - 2*β*σa*σd**2 - 2*β*σa*σd*τ + σd**4 + 2*σd**3*τ + σd**2*τ**2))/(2*β*σd)\n"
     ]
    }
   ],
   "source": [
    "from sympy import simplify\n",
    "print(simplify(equilibria[0][0]))\n",
    "print(simplify(equilibria[0][1]))"
   ]
  },
  {
   "cell_type": "code",
   "execution_count": 41,
   "metadata": {},
   "outputs": [],
   "source": [
    "# stability conditions\n",
    "Eq_S1 = (β*σa/ (  σd**2 + σd*τ), 1 )\n",
    "Eq_S2 = Eq(β**2*σa**2 + 4*β*γ*σa*σd**2 - 2*β*σa*σd**2 - 2*β*σa*σd*τ + σd**4 + 2*σd**3*τ + σd**2*τ**2, 0)\n",
    "\n",
    "\n",
    "eq1 = β*σa/ (  σd**2 + σd*τ)\n",
    "eq2 = β**2*σa**2 + 4*β*γ*σa*σd**2 - 2*β*σa*σd**2 - 2*β*σa*σd*τ + σd**4 + 2*σd**3*τ + σd**2*τ**2"
   ]
  },
  {
   "cell_type": "code",
   "execution_count": null,
   "metadata": {},
   "outputs": [],
   "source": []
  }
 ],
 "metadata": {
  "kernelspec": {
   "display_name": "Python (POMPJAX)",
   "language": "python",
   "name": "pompjax"
  },
  "language_info": {
   "codemirror_mode": {
    "name": "ipython",
    "version": 3
   },
   "file_extension": ".py",
   "mimetype": "text/x-python",
   "name": "python",
   "nbconvert_exporter": "python",
   "pygments_lexer": "ipython3",
   "version": "3.8.13"
  },
  "orig_nbformat": 4,
  "vscode": {
   "interpreter": {
    "hash": "aee8b7b246df8f9039afb4144a1f6fd8d2ca17a180786b69acc140d282b71a49"
   }
  }
 },
 "nbformat": 4,
 "nbformat_minor": 2
}
