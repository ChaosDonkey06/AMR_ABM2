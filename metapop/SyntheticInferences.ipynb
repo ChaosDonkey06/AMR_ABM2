{
 "cells": [
  {
   "cell_type": "code",
   "execution_count": 1,
   "metadata": {},
   "outputs": [],
   "source": [
    "from scipy.stats import truncnorm\n",
    "import pandas as pd\n",
    "import numpy as np\n",
    "import itertools\n",
    "import datetime\n",
    "import tqdm\n",
    "import sys\n",
    "import os\n",
    "\n",
    "def flatten_list(list_array):\n",
    "    return list(itertools.chain(*list_array))\n",
    "\n",
    "sys.path.insert(0,\"../\")\n",
    "from global_config import config\n",
    "\n",
    "results_dir           = config.get_property('results_dir')\n",
    "results2_dir           = config.get_property('results2_dir')\n",
    "\n",
    "data_dir              = config.get_property('data_dir')\n",
    "paper_dir             = config.get_property('paper_dir')\n",
    "data_db_dir           = config.get_property('data_db_dir')\n",
    "feb_hosp_records_path = os.path.join(data_db_dir, 'long_files_8_25_2021')\n",
    "path_to_save          = os.path.join(results_dir, \"real_testing\", \"community\")\n",
    "\n",
    "COLOR_LIST1           = [\"#F8AFA8\", \"#FDDDA0\", \"#F5CDB4\", \"#74A089\"]"
   ]
  },
  {
   "cell_type": "code",
   "execution_count": 21,
   "metadata": {},
   "outputs": [],
   "source": [
    "def create_population_data(path_to_file, date_start=pd.to_datetime(\"2020-02-01\"), date_end=pd.to_datetime(\"2021-02-28\")):\n",
    "\n",
    "    dates_simulation = pd.date_range(start=date_start, end=date_end, freq=\"D\")\n",
    "\n",
    "    data_df  = pd.read_csv( path_to_file, parse_dates=['date'])\n",
    "    data_df  = data_df[data_df.date.isin(dates_simulation)]\n",
    "    A_df     = pd.pivot(data_df, index='ward', columns='date', values='num_admitted')\n",
    "    D_df     = pd.pivot(data_df, index='ward', columns='date', values='num_discharged')\n",
    "    H_df     = pd.pivot(data_df, index='ward', columns='date', values='num_hospitalized')\n",
    "    tests_df = pd.pivot(data_df, index='ward', columns='date', values='num_tested')\n",
    "    Hmean_df = H_df.mean(axis=1)\n",
    "\n",
    "    return A_df, D_df, H_df, tests_df, Hmean_df\n",
    "\n",
    "def create_time_transfers(path_to_file, num_wards, ward_names, date_start=pd.to_datetime(\"2020-02-01\"), date_end=pd.to_datetime(\"2021-02-28\")):\n",
    "\n",
    "    dates_simulation = pd.date_range(start=date_start, end=date_end, freq=\"D\")\n",
    "    transfers_df     = pd.read_csv(path_to_file, parse_dates=['date'])\n",
    "    transfers_df     = transfers_df[transfers_df.date.isin(dates_simulation)]\n",
    "    M_df             = np.zeros((num_wards, num_wards, len(dates_simulation)+1))\n",
    "\n",
    "    for i in range(num_wards):\n",
    "        ward_from = ward_names[i]\n",
    "        for j in range(num_wards):\n",
    "            ward_to      = ward_names[j]\n",
    "            transfers_ij = transfers_df[(transfers_df.ward_from==ward_from) & (transfers_df.ward_to==ward_to)]\n",
    "\n",
    "            if(transfers_ij.shape[0] > 0) :\n",
    "                dates_ij                = transfers_ij.date.values\n",
    "                dates_ind               = np.where(np.in1d(dates_ij, dates_simulation))[0]\n",
    "                transfered              = transfers_ij.num_transfered.values\n",
    "                M_df[i, j, dates_ind-1] = transfered\n",
    "\n",
    "    return M_df\n"
   ]
  },
  {
   "cell_type": "code",
   "execution_count": 22,
   "metadata": {},
   "outputs": [],
   "source": [
    "path_to_ward_counts = os.path.join(data_db_dir, \"long_files_8_25_2021\", \"counts_ward.csv\" )\n",
    "path_to_ward_transf = os.path.join(data_db_dir, \"long_files_8_25_2021\", \"transfers_ward.csv\" )\n",
    "\n",
    "\n",
    "A_df, D_df, H_df, tests_df, Hmean_df = create_population_data(path_to_ward_counts)\n",
    "\n",
    "num_wards  = len(Hmean_df)\n",
    "ward_names = list(Hmean_df.index)\n",
    "\n",
    "M_df = create_time_transfers(path_to_ward_transf, num_wards=num_wards, ward_names=ward_names)"
   ]
  },
  {
   "cell_type": "code",
   "execution_count": null,
   "metadata": {},
   "outputs": [],
   "source": []
  }
 ],
 "metadata": {
  "kernelspec": {
   "display_name": "Python (POMPJAX)",
   "language": "python",
   "name": "pompjax"
  },
  "language_info": {
   "codemirror_mode": {
    "name": "ipython",
    "version": 3
   },
   "file_extension": ".py",
   "mimetype": "text/x-python",
   "name": "python",
   "nbconvert_exporter": "python",
   "pygments_lexer": "ipython3",
   "version": "3.8.13"
  },
  "orig_nbformat": 4
 },
 "nbformat": 4,
 "nbformat_minor": 2
}
