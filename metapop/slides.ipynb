{
 "cells": [
  {
   "cell_type": "markdown",
   "metadata": {
    "slideshow": {
     "slide_type": "slide"
    }
   },
   "source": [
    "# Where are we\n",
    "\n",
    "ABM to update individual/patient colonization status according to a density dependent force of infection at ward facility level. Individual $i$ residing at ward $w_j$ have colonization probability.\n",
    "$$P(S\\rightarrow C)= \\beta \\frac{C_{{w_j}}}{N_j}$$\n",
    "\n",
    "Upon admission, at daily integrations, we assumed people can be imported colonized with probability $\\gamma$"
   ]
  }
 ],
 "metadata": {
  "kernelspec": {
   "display_name": "Python 3.6.8 64-bit",
   "language": "python",
   "name": "python3"
  },
  "language_info": {
   "name": "python",
   "version": "3.6.8"
  },
  "orig_nbformat": 4,
  "vscode": {
   "interpreter": {
    "hash": "aee8b7b246df8f9039afb4144a1f6fd8d2ca17a180786b69acc140d282b71a49"
   }
  }
 },
 "nbformat": 4,
 "nbformat_minor": 2
}
