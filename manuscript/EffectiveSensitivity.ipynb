{
 "cells": [
  {
   "cell_type": "code",
   "execution_count": 2,
   "metadata": {},
   "outputs": [],
   "source": [
    "import pandas as pd\n",
    "import numpy as np\n",
    "import os, sys\n",
    "\n",
    "sys.path.insert(0, \"../\")\n",
    "\n",
    "from utils_local import plot_utils\n",
    "\n"
   ]
  },
  {
   "cell_type": "code",
   "execution_count": 3,
   "metadata": {},
   "outputs": [],
   "source": [
    "betas      = np.linspace(0.001, 1, 1000)\n",
    "norm_alpha = np.linspace(0.1, 2, 1000)\n",
    "rho_norm   = np.full((len(betas), len(norm_alpha)), np.nan)\n"
   ]
  },
  {
   "cell_type": "code",
   "execution_count": 18,
   "metadata": {},
   "outputs": [],
   "source": [
    "import matplotlib.pyplot as plt\n",
    "import seaborn as sns\n",
    "\n",
    "\n",
    "fig, ax = plt.subplots(4, 2, figsize=(10.5, 11.2), sharey=\"col\", sharex=\"col\")\n",
    "\n",
    "for idx_phi, φ in enumerate([0.9, 0.8, 0.7, 0.6]):\n",
    "\n",
    "    p          = np.linspace(0.5, 1, 1000)\n",
    "    alpha_norm = np.linspace(0.1,   1, 1000)\n",
    "\n",
    "    prob_cult, alphass = np.meshgrid(p, alpha_norm)\n",
    "    ro_bar      = φ * ((1/prob_cult)  * (alphass) / (2 * alphass+1))\n",
    "    rho_norm_df = pd.DataFrame(ro_bar, index=p, columns=alpha_norm)\n",
    "\n",
    "    ax_hm          = ax[idx_phi, 0]\n",
    "    palette = sns.color_palette(\"vlag\", as_cmap=True)\n",
    "    sns.heatmap(ax = ax_hm, data=rho_norm_df.iloc[::-1], cmap=palette,  cbar=True, vmin=0.0, vmax=0.4)\n",
    "\n",
    "    #ax_hm.set_xlabel(r'$\\bar{\\alpha}= \\alpha/ ( \\delta + \\tau_1)$', fontsize=15)\n",
    "\n",
    "    xticks        = rho_norm_df.columns\n",
    "    keptxticksidx = np.linspace(0,len(xticks),6)\n",
    "    xtickslabels  = list(xticks[ np.maximum(keptxticksidx.astype(int)-1,0) ])\n",
    "    xtickslabels  = ['{:.1f}'.format(l) for l in xtickslabels]\n",
    "\n",
    "    yticks         = rho_norm_df.iloc[::-1].index\n",
    "    keptyticksidx  = np.linspace(0,len(yticks),6)\n",
    "    ytickslabels   = list(yticks[ np.maximum(keptyticksidx.astype(int)-1,0) ])\n",
    "    ytickslabels   = ['{:.1f}'.format(l) for l in ytickslabels]\n",
    "\n",
    "    ax_hm.set_xticks(keptxticksidx)\n",
    "    ax_hm.set_yticks(keptyticksidx)\n",
    "\n",
    "    ax_hm.set_xticklabels(xtickslabels, fontsize=20, rotation=0)\n",
    "    ax_hm.set_yticklabels(ytickslabels, fontsize=20)\n",
    "\n",
    "    ax_hm.tick_params( which='both', axis='x', labelrotation=90, labelsize=15)\n",
    "    ax_hm.tick_params( which='both', axis='both', labelsize=15)\n",
    "\n",
    "    ax_hm.set_title(r\"$\\rho$\", fontsize=15)\n",
    "\n",
    "    Ps = [0.6, 0.7, 0.8,  0.9,  0.99]\n",
    "    colors = sns.color_palette(palette=\"mako_r\", n_colors=len(Ps), desat=None, as_cmap=False)\n",
    "    for idx_p, p in enumerate(Ps):\n",
    "        ro = φ * (1/p)  * (alpha_norm) / (2 * alpha_norm+1)\n",
    "        ax[idx_phi, 1].plot(alpha_norm, ro, label=p, color=colors[idx_p])\n",
    "\n",
    "    ax[idx_phi, 1].axhline(y=0.2, color='red', linestyle='--')\n",
    "    ax[idx_phi, 1].set_ylabel(r\"$\\rho$\")\n",
    "\n",
    "    ax[idx_phi, 1].set_ylim([0, 0.21])\n",
    "\n",
    "    ax[idx_phi, 1].text(s=r\"$\\varphi=${}\".format(φ),\n",
    "                        x=0.1, y=0.025, color=\"k\")\n",
    "\n",
    "    ax[idx_phi, 0].text(s=r\"$\\varphi=${}\".format(φ),\n",
    "                        x=30, y=180, color=\"lightblue\")\n",
    "\n",
    "ax[0, 1].legend(title=r'$p^I$', ncol=1, loc=\"upper right\")\n",
    "\n",
    "for axi in ax.flatten():\n",
    "    axi.spines['right'].set_visible(False)\n",
    "    axi.spines['top'].set_visible(False)\n",
    "\n",
    "fig.supxlabel(r\"Infection to clearance ratio, $\\bar{\\alpha}= \\alpha/ ( \\delta_1 + \\tau_1)$\")\n",
    "fig.supylabel(r'Proportion of clinical cultures destined to diagnostic, $p^I$')\n",
    "\n",
    "plt.tight_layout()\n",
    "\n",
    "fig.savefig('./EffectiveSensitivity.png', bbox_inches='tight', dpi=300)\n"
   ]
  },
  {
   "cell_type": "code",
   "execution_count": null,
   "metadata": {},
   "outputs": [],
   "source": []
  }
 ],
 "metadata": {
  "kernelspec": {
   "display_name": "Python 3",
   "language": "python",
   "name": "python3"
  },
  "language_info": {
   "codemirror_mode": {
    "name": "ipython",
    "version": 3
   },
   "file_extension": ".py",
   "mimetype": "text/x-python",
   "name": "python",
   "nbconvert_exporter": "python",
   "pygments_lexer": "ipython3",
   "version": "3.8.13"
  },
  "orig_nbformat": 4
 },
 "nbformat": 4,
 "nbformat_minor": 2
}
