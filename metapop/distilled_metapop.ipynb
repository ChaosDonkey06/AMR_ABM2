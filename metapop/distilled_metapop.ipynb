{
 "cells": [
  {
   "cell_type": "code",
   "execution_count": 114,
   "metadata": {},
   "outputs": [],
   "source": [
    "import pandas as pd\n",
    "import numpy as np"
   ]
  },
  {
   "cell_type": "code",
   "execution_count": 195,
   "metadata": {},
   "outputs": [],
   "source": [
    "def binomial_transition(n, prob):\n",
    "    return np.random.binomial(n, prob)\n",
    "\n",
    "def poisson_transition(n, rate):\n",
    "    return np.random.poisson(np.nan_to_num(n * rate))\n",
    "\n",
    "transition_b = lambda n, prob: binomial_transition(n, prob)\n",
    "transition_p = lambda n, rate: poisson_transition(n, rate)\n",
    "\n",
    "\n",
    "model_settings            = {}\n",
    "model_settings[\"m\"]       = 100\n",
    "model_settings[\"num_pop\"] = 2\n",
    "\n",
    "N0 = np.array([[1e3], [1.5e3]]) * np.ones((model_settings[\"num_pop\"], model_settings[\"m\"]))\n",
    "C0 = 0.05 * np.ones((model_settings[\"num_pop\"], model_settings[\"m\"]))\n",
    "\n",
    "\n",
    "M = np.random.uniform(size=(num_pop, num_pop)) * 100\n",
    "np.fill_diagonal(M, 0)\n",
    "\n",
    "\n",
    "A = np.random.uniform(300, 1000, (num_pop, 1))  # admissions\n",
    "D = np.random.uniform(300, 1000, (num_pop, 1))  # discharges\n",
    "H = np.random.uniform(1000, 2000, (num_pop, 1)) # hospitalizations\n",
    "\n",
    "Nmean = np.random.uniform(1, 500, (num_pop, 1))\n"
   ]
  },
  {
   "cell_type": "code",
   "execution_count": 196,
   "metadata": {},
   "outputs": [],
   "source": [
    "# parameters\n",
    "γ = 0.05 * np.ones((model_settings[\"num_pop\"], model_settings[\"m\"]))\n",
    "β = 0.1  * np.ones((model_settings[\"num_pop\"], model_settings[\"m\"]))\n",
    "δ = 1/120"
   ]
  },
  {
   "cell_type": "code",
   "execution_count": 197,
   "metadata": {},
   "outputs": [],
   "source": [
    "m       = model_settings[\"m\"]\n",
    "num_pop = model_settings[\"num_pop\"]\n",
    "\n",
    "N       = N0\n",
    "C       = C0 * N\n",
    "S       =  np.clip(N - C,0,N)\n",
    "\n",
    "x0     = np.array([C, a2c, inc]) # [num_state_vars x num_pop x m]"
   ]
  },
  {
   "cell_type": "code",
   "execution_count": 202,
   "metadata": {},
   "outputs": [],
   "source": [
    "\n",
    "Cout = transition_b(list(np.sum(M, axis=1, keepdims=True)), np.clip(np.nan_to_num(C/N), 0, 1))\n",
    "Cin  = M.T @ np.clip(np.nan_to_num(C/N), 0, 1)\n",
    "\n",
    "a2c   = transition_b(list(A), γ)                                  # people admitted colonized.\n",
    "c2out = transition_b(list(D), np.clip(np.nan_to_num(C/N), 0, 1))  # discharged colonized\n",
    "\n",
    "λ   = β * C/ Nmean\n",
    "\n",
    "s2c  = transition_b(list(S), 1-np.exp(-λ)) # new colonized\n",
    "c2s  = transition_p(C, δ) # decolonizations\n",
    "\n",
    "\n",
    "C = C + a2c - c2out + s2c + c2s + Cin - Cout\n",
    "C       = np.clip(C, 0, N)\n",
    "\n",
    "x = check_state_space(np.concatenate((C, a2c, s2c)))\n"
   ]
  },
  {
   "cell_type": "code",
   "execution_count": 203,
   "metadata": {},
   "outputs": [
    {
     "data": {
      "text/plain": [
       "array([[1000., 1000., 1000., 1000., 1000., 1000., 1000., 1000., 1000.,\n",
       "        1000., 1000., 1000., 1000., 1000., 1000., 1000., 1000., 1000.,\n",
       "        1000., 1000., 1000., 1000., 1000., 1000., 1000., 1000., 1000.,\n",
       "        1000., 1000., 1000., 1000., 1000., 1000., 1000., 1000., 1000.,\n",
       "        1000., 1000., 1000., 1000., 1000., 1000., 1000., 1000., 1000.,\n",
       "        1000., 1000., 1000., 1000., 1000., 1000., 1000., 1000., 1000.,\n",
       "        1000., 1000., 1000., 1000., 1000., 1000., 1000., 1000., 1000.,\n",
       "        1000., 1000., 1000., 1000., 1000., 1000., 1000., 1000., 1000.,\n",
       "        1000., 1000., 1000., 1000., 1000., 1000., 1000., 1000., 1000.,\n",
       "        1000., 1000., 1000., 1000., 1000., 1000., 1000., 1000., 1000.,\n",
       "        1000., 1000., 1000., 1000., 1000., 1000., 1000., 1000., 1000.,\n",
       "        1000.],\n",
       "       [1500., 1500., 1500., 1500., 1500., 1500., 1500., 1500., 1500.,\n",
       "        1500., 1500., 1500., 1500., 1500., 1500., 1500., 1500., 1500.,\n",
       "        1500., 1500., 1500., 1500., 1500., 1500., 1500., 1500., 1500.,\n",
       "        1500., 1500., 1500., 1500., 1500., 1500., 1500., 1500., 1500.,\n",
       "        1500., 1500., 1500., 1500., 1500., 1500., 1500., 1500., 1500.,\n",
       "        1500., 1500., 1500., 1500., 1500., 1500., 1500., 1500., 1500.,\n",
       "        1500., 1500., 1500., 1500., 1500., 1500., 1500., 1500., 1500.,\n",
       "        1500., 1500., 1500., 1500., 1500., 1500., 1500., 1500., 1500.,\n",
       "        1500., 1500., 1500., 1500., 1500., 1500., 1500., 1500., 1500.,\n",
       "        1500., 1500., 1500., 1500., 1500., 1500., 1500., 1500., 1500.,\n",
       "        1500., 1500., 1500., 1500., 1500., 1500., 1500., 1500., 1500.,\n",
       "        1500.]])"
      ]
     },
     "execution_count": 203,
     "metadata": {},
     "output_type": "execute_result"
    }
   ],
   "source": []
  },
  {
   "attachments": {},
   "cell_type": "markdown",
   "metadata": {},
   "source": [
    "# the movement model\n",
    "\n",
    "M is a matrix of [np, np] and C and N vectors of size [np, m].\n",
    "\n",
    "Mij = individuals moving for i to j.\n",
    "\n",
    "1. Colonized ppl moving outside unit $i$. The people moving outside of unit i are $\\sum_j M_{ij}$.\n",
    "\n",
    "    $C_{i}^{out}= \\sum_j M_{ij} \\frac{C_i}{N_i}$\n",
    "\n",
    "    In code it will be\n",
    "    ```\n",
    "    Cout_i = np.sum(M[i, :]) * C[i, :]/N[i, :]\n",
    "    ```\n",
    "    So for putting all the people in a matix it will be\n",
    "    ```\n",
    "    Cout = np.sum(M, axis=1, keepdims=True) * C / N\n",
    "    ```\n",
    "2. Colonized people moving into unit $i$.\n",
    "   For a 3 metapop model, the people moving into population $i=1$ will be $M_{21}, M_{31}$\n",
    "   So the people moving inside colonized are $C_1^{out}=M_{21} * C_2/N_2$ and $C_2^{out}=M_{31} * C_3/N_3$.\n",
    "    As a matrix multiplication this is $M_{:,1}^T \\times C/N$, where $M_{:,1}^T=[M_{11}, M_{21}, M_{31}]$ and $C=[C_1, C_2, C_3]^T$.\n",
    "\n",
    "   The total people moving inside colonized are $C_i^{out}=\\sum_j M_{ji} * C_j/N_j$.\n",
    "\n",
    "   So, in matrix multiplication (I think - not sure) the people moving into all population can be writted as below, gotta be carefull to make the diagonal in M zero!!! or will add people in the same ward.\n",
    "\n",
    "   $$C_{in} = M^T \\times C$$"
   ]
  },
  {
   "cell_type": "code",
   "execution_count": 125,
   "metadata": {},
   "outputs": [],
   "source": []
  },
  {
   "cell_type": "code",
   "execution_count": 127,
   "metadata": {},
   "outputs": [],
   "source": []
  },
  {
   "cell_type": "code",
   "execution_count": 131,
   "metadata": {},
   "outputs": [],
   "source": []
  },
  {
   "cell_type": "code",
   "execution_count": null,
   "metadata": {},
   "outputs": [],
   "source": []
  }
 ],
 "metadata": {
  "kernelspec": {
   "display_name": "Python (POMPJAX)",
   "language": "python",
   "name": "pompjax"
  },
  "language_info": {
   "codemirror_mode": {
    "name": "ipython",
    "version": 3
   },
   "file_extension": ".py",
   "mimetype": "text/x-python",
   "name": "python",
   "nbconvert_exporter": "python",
   "pygments_lexer": "ipython3",
   "version": "3.8.13"
  },
  "orig_nbformat": 4
 },
 "nbformat": 4,
 "nbformat_minor": 2
}
