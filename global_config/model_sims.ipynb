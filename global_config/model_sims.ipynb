{
 "cells": [
  {
   "cell_type": "code",
   "execution_count": 3,
   "metadata": {},
   "outputs": [],
   "source": [
    "from scipy.stats import truncnorm\n",
    "import pandas as pd\n",
    "import numpy as onp\n",
    "import itertools\n",
    "import datetime\n",
    "import tqdm\n",
    "import sys\n",
    "import os\n",
    "\n",
    "def flatten_list(list_array):\n",
    "    return list(itertools.chain(*list_array))\n",
    "\n",
    "sys.path.insert(0,\"../\")\n",
    "from global_config import config\n",
    "\n",
    "results_dir           = config.get_property('results_dir')\n",
    "data_dir              = config.get_property('data_dir')\n",
    "paper_dir             = config.get_property('paper_dir')\n",
    "data_db_dir           = config.get_property('data_db_dir')\n",
    "feb_hosp_records_path = os.path.join(data_db_dir, 'long_files_8_25_2021')\n",
    "path_to_save          = os.path.join(results_dir, \"real_testing\", \"community\")\n"
   ]
  },
  {
   "cell_type": "code",
   "execution_count": null,
   "metadata": {},
   "outputs": [],
   "source": [
    "\n",
    "\n",
    "def amr_abm(agents_state, movement, ward2size, parameters):\n",
    "    \"\"\"_summary_\n",
    "\n",
    "    Args:\n",
    "        agents_state : agent state. {0: susceptible, 1: colonized}.                 Size: (n_patients)\n",
    "        movement     : pd.Dataframe with patient locations and culture information.\n",
    "        parameters   : dictionary of parameters, contains importation rate (gamma), nosocomial transmission rate (beta),\n",
    "                        effective sensitivity (ro), and decolonization rate (alpha)\n",
    "    \"\"\"\n",
    "\n",
    "    γ   = parameters[\"gamma\"] # importation rate.\n",
    "    β   = parameters[\"beta\"]  # nosocomial transmission rate.\n",
    "    ρ   = parameters[\"ro\"]    # effective sensitivity.\n",
    "    α   = parameters[\"alpha\"] # decolonization rate\n",
    "    Nw  = parameters[\"Nw\"]    # number of wards\n",
    "\n",
    "    # active colonizations\n",
    "    active_colonizations      = onp.where(agents_state==1)[0]\n",
    "    decolonized               = active_colonizations[onp.random.random(size=(active_colonizations[0].shape)) < α]\n",
    "    agents_state[decolonized] = 0\n",
    "\n",
    "    # Import patients.\n",
    "    new_patients = movement[movement[\"first_day\"]==1][\"mrn_id\"].values\n",
    "    if new_patients.shape[0]>0:\n",
    "        # P(S2C) = \\gamma - Probability of colonization given importation.\n",
    "        agents_state[new_patients]   = onp.random.random(size=(new_patients[0].shape)) < γ\n",
    "\n",
    "    # compute force of infection for each ward.\n",
    "    for i, ward_id in enumerate( movement[\"ward_id\"].unique()):\n",
    "        patients_ward = movement[movement[\"ward_id\"]==ward_id][\"mrn_id\"].values\n",
    "\n",
    "        # λ_i = β  * C / N  - Force of infection for ward i.\n",
    "        λ_i = β * onp.sum(agents_state[patients_ward]==1) / ward2size[ward_id]\n",
    "\n",
    "        # P(C2S)_i = λ_i, we add the state but if already colonized the state would be 2 so we clip it to 1.\n",
    "        agents_state[patients_ward] = onp.minimum(agents_state[patients_ward] + onp.random.random(size=(patients_ward.shape)) < λ_i, 1)\n",
    "\n",
    "\n",
    "    return agents_state\n"
   ]
  }
 ],
 "metadata": {
  "kernelspec": {
   "display_name": "pompjax",
   "language": "python",
   "name": "python3"
  },
  "language_info": {
   "codemirror_mode": {
    "name": "ipython",
    "version": 3
   },
   "file_extension": ".py",
   "mimetype": "text/x-python",
   "name": "python",
   "nbconvert_exporter": "python",
   "pygments_lexer": "ipython3",
   "version": "3.8.13"
  },
  "orig_nbformat": 4,
  "vscode": {
   "interpreter": {
    "hash": "e23b8103492689b0d9748b47018d3861a561878402e3a1e7a565e9dcb2ea3867"
   }
  }
 },
 "nbformat": 4,
 "nbformat_minor": 2
}
