{
 "cells": [
  {
   "cell_type": "code",
   "execution_count": 12,
   "metadata": {},
   "outputs": [],
   "source": [
    "import sympy as sp\n",
    "\n",
    "# Define symbols.\n",
    "σ, γ, β, δ, τ, N = sp.symbols('σ γ β δ τ N')\n",
    "\n",
    "sp.var\n",
    "# Define variables.\n",
    "S, C = sp.var('S C')"
   ]
  },
  {
   "cell_type": "code",
   "execution_count": 13,
   "metadata": {},
   "outputs": [
    {
     "name": "stdout",
     "output_type": "stream",
     "text": [
      "\\bar{S}= \\frac{N \\left(\\delta + \\tau\\right)}{2 \\beta} + \\frac{\\sigma}{2 \\delta} + \\frac{\\sqrt{N^{2} \\delta^{4} + 2 N^{2} \\delta^{3} \\tau + N^{2} \\delta^{2} \\tau^{2} + 4 N \\beta \\gamma \\delta^{2} \\sigma - 2 N \\beta \\delta^{2} \\sigma - 2 N \\beta \\delta \\sigma \\tau + \\beta^{2} \\sigma^{2}}}{2 \\beta \\delta}\n",
      "\\bar{C}= \\frac{N \\left(- \\delta - \\tau\\right)}{2 \\beta} + \\frac{\\sigma}{2 \\delta} - \\frac{\\sqrt{N^{2} \\delta^{4} + 2 N^{2} \\delta^{3} \\tau + N^{2} \\delta^{2} \\tau^{2} + 4 N \\beta \\gamma \\delta^{2} \\sigma - 2 N \\beta \\delta^{2} \\sigma - 2 N \\beta \\delta \\sigma \\tau + \\beta^{2} \\sigma^{2}}}{2 \\beta \\delta}\n",
      "\n",
      "\n",
      "\\bar{S}= \\frac{N \\left(\\delta + \\tau\\right)}{2 \\beta} + \\frac{\\sigma}{2 \\delta} - \\frac{\\sqrt{N^{2} \\delta^{4} + 2 N^{2} \\delta^{3} \\tau + N^{2} \\delta^{2} \\tau^{2} + 4 N \\beta \\gamma \\delta^{2} \\sigma - 2 N \\beta \\delta^{2} \\sigma - 2 N \\beta \\delta \\sigma \\tau + \\beta^{2} \\sigma^{2}}}{2 \\beta \\delta}\n",
      "\\bar{C}= \\frac{N \\left(- \\delta - \\tau\\right)}{2 \\beta} + \\frac{\\sigma}{2 \\delta} + \\frac{\\sqrt{N^{2} \\delta^{4} + 2 N^{2} \\delta^{3} \\tau + N^{2} \\delta^{2} \\tau^{2} + 4 N \\beta \\gamma \\delta^{2} \\sigma - 2 N \\beta \\delta^{2} \\sigma - 2 N \\beta \\delta \\sigma \\tau + \\beta^{2} \\sigma^{2}}}{2 \\beta \\delta}\n"
     ]
    }
   ],
   "source": [
    "λ = β * C/N\n",
    "\n",
    "eq1 = sp.Eq(0, σ * (1-γ) - λ * S - δ * S + τ * C)\n",
    "eq2 = sp.Eq(0, σ * γ     + λ * S - δ * C - τ * C)\n",
    "\n",
    "equilibria = [sp.simplify(l) for l in sp.solve([eq1, eq2], [S, C])]\n",
    "\n",
    "###\n",
    "eql0    = [sp.collect(sp.expand(sp.simplify(l)), N/(2*β)) for l in equilibria[0]]\n",
    "eql1    = [sp.collect(sp.expand(sp.simplify(l)), N/(2*β)) for l in equilibria[1]]\n",
    "\n",
    "variables = [\"\\\\bar{S}\", \"\\\\bar{C}\"]\n",
    "for idx_s, l in enumerate(eql0):\n",
    "    print(variables[idx_s]+\"=\", sp.latex(l).replace(\"β\", \"\\\\beta\").replace(\"τ\", \"\\\\tau\").replace(\"δ\", \"\\delta\").replace(\"γ\", \"\\gamma\").replace(\"σ\", \"\\sigma\"))\n",
    "\n",
    "print(\"\\n\")\n",
    "\n",
    "variables = [\"\\\\bar{S}\", \"\\\\bar{C}\"]\n",
    "for idx_s, l in enumerate(eql1):\n",
    "    print(variables[idx_s]+\"=\", str(sp.latex(l)).replace(\"β\", \"\\\\beta\").replace(\"τ\", \"\\\\tau\").replace(\"δ\", \"\\delta\").replace(\"γ\", \"\\gamma\").replace(\"σ\", \"\\sigma\"))\n",
    "\n"
   ]
  },
  {
   "cell_type": "code",
   "execution_count": 14,
   "metadata": {},
   "outputs": [
    {
     "data": {
      "text/latex": [
       "$\\displaystyle \\frac{N \\left(δ + τ\\right)}{2 β} + \\frac{σ}{2 δ} + \\frac{\\sqrt{N^{2} δ^{4} + 2 N^{2} δ^{3} τ + N^{2} δ^{2} τ^{2} + 4 N β γ δ^{2} σ - 2 N β δ^{2} σ - 2 N β δ σ τ + β^{2} σ^{2}}}{2 β δ}$"
      ],
      "text/plain": [
       "N*(δ + τ)/(2*β) + σ/(2*δ) + sqrt(N**2*δ**4 + 2*N**2*δ**3*τ + N**2*δ**2*τ**2 + 4*N*β*γ*δ**2*σ - 2*N*β*δ**2*σ - 2*N*β*δ*σ*τ + β**2*σ**2)/(2*β*δ)"
      ]
     },
     "execution_count": 14,
     "metadata": {},
     "output_type": "execute_result"
    }
   ],
   "source": [
    "eql0[0]"
   ]
  },
  {
   "cell_type": "code",
   "execution_count": 15,
   "metadata": {},
   "outputs": [
    {
     "data": {
      "text/latex": [
       "$\\displaystyle \\frac{N^{2} \\left(\\frac{δ^{2}}{2 β} + \\frac{δ τ}{β} + \\frac{τ^{2}}{2 β}\\right)}{2 β} + N \\left(\\frac{γ σ}{β} - \\frac{σ}{2 β} - \\frac{σ τ}{2 β δ}\\right) + \\frac{σ^{2}}{4 δ^{2}}$"
      ],
      "text/plain": [
       "N**2*(δ**2/(2*β) + δ*τ/β + τ**2/(2*β))/(2*β) + N*(γ*σ/β - σ/(2*β) - σ*τ/(2*β*δ)) + σ**2/(4*δ**2)"
      ]
     },
     "execution_count": 15,
     "metadata": {},
     "output_type": "execute_result"
    }
   ],
   "source": [
    "arg_root = (N**2*δ**4 + 2*N**2*δ**3*τ + N**2*δ**2*τ**2 + 4*N*β*γ*δ**2*σ - 2*N*β*δ**2*σ - 2*N*β*δ*σ*τ + β**2*σ**2) / (2*β*δ)**2\n",
    "\n",
    "arg_root = sp.collect(sp.collect(sp.expand(sp.simplify(arg_root)), N**2/(2*β)), N)\n",
    "\n",
    "arg_root"
   ]
  },
  {
   "cell_type": "code",
   "execution_count": 16,
   "metadata": {},
   "outputs": [
    {
     "name": "stdout",
     "output_type": "stream",
     "text": [
      "\\frac{N^{2} \\left(\\frac{\\delta^{2}}{2 \\beta} + \\frac{\\delta \\tau}{\\beta} + \\frac{\\tau^{2}}{2 \\beta}\\right)}{2 \\beta} + N \\left(\\frac{\\gamma \\sigma}{\\beta} - \\frac{\\sigma}{2 \\beta} - \\frac{\\sigma \\tau}{2 \\beta \\delta}\\right) + \\frac{\\sigma^{2}}{4 \\delta^{2}}\n"
     ]
    }
   ],
   "source": [
    "print(str(sp.latex(arg_root)).replace(\"β\", \"\\\\beta\").replace(\"τ\", \"\\\\tau\").replace(\"δ\", \"\\delta\").replace(\"γ\", \"\\gamma\").replace(\"σ\", \"\\sigma\"))"
   ]
  },
  {
   "cell_type": "code",
   "execution_count": 32,
   "metadata": {},
   "outputs": [],
   "source": [
    "# stability analysis\n",
    "\n",
    "f1 =  σ * (1-γ) - λ * S - δ * S + τ * C\n",
    "f2 =  σ * γ     + λ * S - δ * C - τ * C\n",
    "\n",
    "func = sp.Matrix([f1, f2])\n",
    "\n",
    "Jacobian     = func.jacobian([S, C])\n",
    "\n",
    "Jacobian_eq1 = sp.simplify(Jacobian.replace(S, eql0[0]).replace(C, eql0[1]))\n",
    "Jacobian_eq2 = sp.simplify(Jacobian.replace(S, eql1[0]).replace(C, eql1[1]))"
   ]
  },
  {
   "cell_type": "code",
   "execution_count": 60,
   "metadata": {},
   "outputs": [
    {
     "data": {
      "text/latex": [
       "$\\displaystyle \\left[\\begin{matrix}- \\frac{C β}{N} - δ & τ - \\frac{S β}{N}\\\\\\frac{C β}{N} & - δ - τ + \\frac{S β}{N}\\end{matrix}\\right]$"
      ],
      "text/plain": [
       "Matrix([\n",
       "[-C*β/N - δ,      τ - S*β/N],\n",
       "[     C*β/N, -δ - τ + S*β/N]])"
      ]
     },
     "execution_count": 60,
     "metadata": {},
     "output_type": "execute_result"
    }
   ],
   "source": [
    "Jacobian"
   ]
  },
  {
   "cell_type": "code",
   "execution_count": 45,
   "metadata": {},
   "outputs": [
    {
     "name": "stdout",
     "output_type": "stream",
     "text": [
      "-sqrt(N**2*δ**4 + 2*N**2*δ**3*τ + N**2*δ**2*τ**2 + 4*N*β*γ*δ**2*σ - 2*N*β*δ**2*σ - 2*N*β*δ*σ*τ + β**2*σ**2)/(N*δ)\n"
     ]
    }
   ],
   "source": [
    "print(eig_vals_eq2[1])"
   ]
  },
  {
   "cell_type": "code",
   "execution_count": 59,
   "metadata": {},
   "outputs": [
    {
     "data": {
      "text/latex": [
       "$\\displaystyle δ^{2} + 2 δ τ + τ^{2} + \\frac{4 β γ σ}{N} - \\frac{2 β σ}{N} - \\frac{2 β σ τ}{N δ} + \\frac{β^{2} σ^{2}}{N^{2} δ^{2}}$"
      ],
      "text/plain": [
       "δ**2 + 2*δ*τ + τ**2 + 4*β*γ*σ/N - 2*β*σ/N - 2*β*σ*τ/(N*δ) + β**2*σ**2/(N**2*δ**2)"
      ]
     },
     "execution_count": 59,
     "metadata": {},
     "output_type": "execute_result"
    }
   ],
   "source": [
    "sp.simplify((N**2*δ**4 + 2*N**2*δ**3*τ + N**2*δ**2*τ**2 + 4*N*β*γ*δ**2*σ - 2*N*β*δ**2*σ - 2*N*β*δ*σ*τ + β**2*σ**2)/ (N*δ) **2)"
   ]
  },
  {
   "cell_type": "code",
   "execution_count": 40,
   "metadata": {},
   "outputs": [
    {
     "name": "stdout",
     "output_type": "stream",
     "text": [
      "$\\lambda$_1=- \\delta\n",
      "$\\lambda$_2=\\frac{\\sqrt{N^{2} \\delta^{4} + 2 N^{2} \\delta^{3} \\tau + N^{2} \\delta^{2} \\tau^{2} + 4 N \\beta \\gamma \\delta^{2} \\sigma - 2 N \\beta \\delta^{2} \\sigma - 2 N \\beta \\delta \\sigma \\tau + \\beta^{2} \\sigma^{2}}}{N \\delta}\n",
      "\n",
      "\n",
      "$\\lambda$_1=- \\delta\n",
      "$\\lambda$_2=- \\frac{\\sqrt{N^{2} \\delta^{4} + 2 N^{2} \\delta^{3} \\tau + N^{2} \\delta^{2} \\tau^{2} + 4 N \\beta \\gamma \\delta^{2} \\sigma - 2 N \\beta \\delta^{2} \\sigma - 2 N \\beta \\delta \\sigma \\tau + \\beta^{2} \\sigma^{2}}}{N \\delta}\n"
     ]
    }
   ],
   "source": [
    "eig_vals_eq1 = list(Jacobian_eq1.eigenvals().keys())\n",
    "eig_vals_eq2 = list(Jacobian_eq2.eigenvals().keys())\n",
    "\n",
    "for idx_l, l in enumerate(eig_vals_eq1):\n",
    "    print(r\"$\\lambda$_{}=\".format(idx_l+1)+\"\"+sp.latex(l).replace(\"β\", \"\\\\beta\").replace(\"τ\", \"\\\\tau\").replace(\"δ\", \"\\delta\").replace(\"γ\", \"\\gamma\").replace(\"σ\", \"\\sigma\"))\n",
    "\n",
    "print(\"\\n\")\n",
    "\n",
    "for idx_l, l in enumerate(eig_vals_eq2):\n",
    "    print(r\"$\\lambda$_{}=\".format(idx_l+1)+\"\"+sp.latex(l).replace(\"β\", \"\\\\beta\").replace(\"τ\", \"\\\\tau\").replace(\"δ\", \"\\delta\").replace(\"γ\", \"\\gamma\").replace(\"σ\", \"\\sigma\"))\n"
   ]
  },
  {
   "cell_type": "code",
   "execution_count": 107,
   "metadata": {},
   "outputs": [
    {
     "name": "stdout",
     "output_type": "stream",
     "text": [
      "\\bar{S}= \\frac{\\sigma}{\\delta}\n",
      "\\bar{C}= 0\n",
      "\n",
      "\n",
      "\\bar{S}= \\frac{N \\delta}{\\beta} + \\frac{N \\tau}{\\beta}\n",
      "\\bar{C}= - \\frac{N \\delta}{\\beta} - \\frac{N \\tau}{\\beta} + \\frac{\\sigma}{\\delta}\n"
     ]
    }
   ],
   "source": [
    "# DFE\n",
    "\n",
    "λ = β * C/N\n",
    "\n",
    "eq1 = sp.Eq(0, σ  - λ * S - δ * S + τ * C)\n",
    "eq2 = sp.Eq(0, 0  + λ * S - δ * C - τ * C)\n",
    "\n",
    "equilibria = [sp.simplify(l) for l in sp.solve([eq1, eq2], [S, C])]\n",
    "\n",
    "###\n",
    "eql0    = [sp.collect(sp.expand(sp.simplify(l)), N/(2*β)) for l in equilibria[0]]\n",
    "eql1    = [sp.collect(sp.expand(sp.simplify(l)), N/(2*β)) for l in equilibria[1]]\n",
    "\n",
    "variables = [\"\\\\bar{S}\", \"\\\\bar{C}\"]\n",
    "for idx_s, l in enumerate(eql0):\n",
    "    print(variables[idx_s]+\"=\", sp.latex(l).replace(\"β\", \"\\\\beta\").replace(\"τ\", \"\\\\tau\").replace(\"δ\", \"\\delta\").replace(\"γ\", \"\\gamma\").replace(\"σ\", \"\\sigma\"))\n",
    "\n",
    "print(\"\\n\")\n",
    "\n",
    "variables = [\"\\\\bar{S}\", \"\\\\bar{C}\"]\n",
    "for idx_s, l in enumerate(eql1):\n",
    "    print(variables[idx_s]+\"=\", str(sp.latex(l)).replace(\"β\", \"\\\\beta\").replace(\"τ\", \"\\\\tau\").replace(\"δ\", \"\\delta\").replace(\"γ\", \"\\gamma\").replace(\"σ\", \"\\sigma\"))\n",
    "\n"
   ]
  },
  {
   "cell_type": "code",
   "execution_count": null,
   "metadata": {},
   "outputs": [],
   "source": []
  }
 ],
 "metadata": {
  "kernelspec": {
   "display_name": "pompjax",
   "language": "python",
   "name": "python3"
  },
  "language_info": {
   "codemirror_mode": {
    "name": "ipython",
    "version": 3
   },
   "file_extension": ".py",
   "mimetype": "text/x-python",
   "name": "python",
   "nbconvert_exporter": "python",
   "pygments_lexer": "ipython3",
   "version": "3.8.13"
  },
  "orig_nbformat": 4
 },
 "nbformat": 4,
 "nbformat_minor": 2
}
