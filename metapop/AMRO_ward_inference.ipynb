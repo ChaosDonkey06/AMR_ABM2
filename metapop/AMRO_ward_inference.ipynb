{
 "cells": [
  {
   "cell_type": "code",
   "execution_count": 3,
   "metadata": {},
   "outputs": [
    {
     "ename": "ModuleNotFoundError",
     "evalue": "No module named 'metapopulation_models'",
     "output_type": "error",
     "traceback": [
      "\u001b[0;31m---------------------------------------------------------------------------\u001b[0m",
      "\u001b[0;31mModuleNotFoundError\u001b[0m                       Traceback (most recent call last)",
      "Cell \u001b[0;32mIn [3], line 16\u001b[0m\n\u001b[1;32m     12\u001b[0m \u001b[39mfrom\u001b[39;00m \u001b[39mdiagnostic_plots\u001b[39;00m\u001b[39m.\u001b[39;00m\u001b[39mdiagnostic_plot\u001b[39;00m \u001b[39mimport\u001b[39;00m convergence_plot\n\u001b[1;32m     14\u001b[0m sys\u001b[39m.\u001b[39mpath\u001b[39m.\u001b[39minsert(\u001b[39m0\u001b[39m, \u001b[39m\"\u001b[39m\u001b[39m../../\u001b[39m\u001b[39m\"\u001b[39m)\n\u001b[0;32m---> 16\u001b[0m \u001b[39mfrom\u001b[39;00m \u001b[39mmetapopulation_models\u001b[39;00m \u001b[39mimport\u001b[39;00m \u001b[39m*\u001b[39m\n\u001b[1;32m     19\u001b[0m \u001b[39mfrom\u001b[39;00m \u001b[39mglobal_config\u001b[39;00m \u001b[39mimport\u001b[39;00m config\n\u001b[1;32m     20\u001b[0m \u001b[39mimport\u001b[39;00m \u001b[39mos\u001b[39;00m\n",
      "\u001b[0;31mModuleNotFoundError\u001b[0m: No module named 'metapopulation_models'"
     ]
    }
   ],
   "source": [
    "from matplotlib import pyplot as plt\n",
    "from datetime import datetime\n",
    "import pandas as pd\n",
    "import numpy as np\n",
    "\n",
    "import sys\n",
    "\n",
    "sys.path.insert(0, \"../pompjax/pompjax/\")\n",
    "\n",
    "from ifeakf import ifeakf\n",
    "from utils.samples2df import create_df_response\n",
    "from diagnostic_plots.diagnostic_plot import convergence_plot\n",
    "\n",
    "sys.path.insert(0, \"../../\")\n",
    "\n",
    "from models import metapop_process_model\n",
    "\n",
    "from global_config import config\n",
    "import os\n",
    "\n",
    "results_dir = config.get_property('results_dir')\n",
    "model_name  = \"mp model mean streams\" #\n",
    "#results_dir = os.path.join(\"..\", \"identifiability\", model_name)\n",
    "results_dir = os.path.join(results_dir, \"identifiability\", model_name)\n",
    "\n",
    "os.makedirs(results_dir, exist_ok=True)\n",
    "\n",
    "plt.rc('axes', labelsize=12)\n",
    "plt.rc('xtick', labelsize=8)\n",
    "plt.rc('ytick', labelsize=8)\n",
    "plt.rc('axes', titlesize=8)\n"
   ]
  },
  {
   "cell_type": "code",
   "execution_count": null,
   "metadata": {},
   "outputs": [],
   "source": []
  }
 ],
 "metadata": {
  "kernelspec": {
   "display_name": "Python (POMPJAX)",
   "language": "python",
   "name": "pompjax"
  },
  "language_info": {
   "codemirror_mode": {
    "name": "ipython",
    "version": 3
   },
   "file_extension": ".py",
   "mimetype": "text/x-python",
   "name": "python",
   "nbconvert_exporter": "python",
   "pygments_lexer": "ipython3",
   "version": "3.8.13"
  },
  "orig_nbformat": 4,
  "vscode": {
   "interpreter": {
    "hash": "e23b8103492689b0d9748b47018d3861a561878402e3a1e7a565e9dcb2ea3867"
   }
  }
 },
 "nbformat": 4,
 "nbformat_minor": 2
}
