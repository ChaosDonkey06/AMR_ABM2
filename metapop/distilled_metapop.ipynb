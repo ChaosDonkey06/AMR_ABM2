{
 "cells": [
  {
   "cell_type": "code",
   "execution_count": 1,
   "metadata": {},
   "outputs": [],
   "source": [
    "import pandas as pd\n",
    "import numpy as np"
   ]
  },
  {
   "cell_type": "code",
   "execution_count": 11,
   "metadata": {},
   "outputs": [],
   "source": [
    "model_settings            = {}\n",
    "model_settings[\"m\"]       = 100\n",
    "model_settings[\"num_pop\"] = 2\n",
    "\n",
    "N0 = np.array([[1e3], [1.5e3]]) * np.ones((model_settings[\"num_pop\"], model_settings[\"m\"]))\n",
    "C0 = 0.05 * np.ones((model_settings[\"num_pop\"], model_settings[\"m\"]))\n"
   ]
  },
  {
   "cell_type": "code",
   "execution_count": 14,
   "metadata": {},
   "outputs": [],
   "source": [
    "m       = model_settings[\"m\"]\n",
    "num_pop = model_settings[\"num_pop\"]\n",
    "\n",
    "N       = N0\n",
    "C       = C0 * N\n",
    "\n",
    "a2c    = np.zeros((num_pop, m))\n",
    "inc    = np.zeros((num_pop, m))\n",
    "\n",
    "x0     = np.array([C, a2c, inc]) # [num_state_vars x num_pop x m]\n"
   ]
  },
  {
   "cell_type": "code",
   "execution_count": null,
   "metadata": {},
   "outputs": [],
   "source": []
  },
  {
   "cell_type": "code",
   "execution_count": null,
   "metadata": {},
   "outputs": [],
   "source": []
  }
 ],
 "metadata": {
  "kernelspec": {
   "display_name": "Python (POMPJAX)",
   "language": "python",
   "name": "pompjax"
  },
  "language_info": {
   "codemirror_mode": {
    "name": "ipython",
    "version": 3
   },
   "file_extension": ".py",
   "mimetype": "text/x-python",
   "name": "python",
   "nbconvert_exporter": "python",
   "pygments_lexer": "ipython3",
   "version": "3.8.13"
  },
  "orig_nbformat": 4
 },
 "nbformat": 4,
 "nbformat_minor": 2
}
