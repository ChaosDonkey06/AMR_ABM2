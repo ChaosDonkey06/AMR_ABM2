{
 "cells": [
  {
   "cell_type": "code",
   "execution_count": 1,
   "metadata": {},
   "outputs": [],
   "source": [
    "from scipy.stats import truncnorm\n",
    "import pandas as pd\n",
    "import numpy as np\n",
    "import itertools\n",
    "import datetime\n",
    "import tqdm\n",
    "import sys\n",
    "import os\n",
    "\n",
    "import matplotlib.pyplot as plt\n",
    "\n",
    "def flatten_list(list_array):\n",
    "    return list(itertools.chain(*list_array))\n",
    "\n",
    "sys.path.insert(0,\"../\")\n",
    "from global_config import config\n",
    "\n",
    "results_dir           = config.get_property('results_dir')\n",
    "data_dir              = config.get_property('data_dir')\n",
    "paper_dir             = config.get_property('paper_dir')\n",
    "data_db_dir           = config.get_property('data_db_dir')\n",
    "feb_hosp_records_path = os.path.join(data_db_dir, 'long_files_8_25_2021')\n",
    "path_to_save          = os.path.join(results_dir, \"real_testing\", \"community\")\n",
    "results2_dir          = config.get_property('results2_dir')\n",
    "\n",
    "COLOR_LIST1 = [\"#F8AFA8\", \"#FDDDA0\", \"#F5CDB4\", \"#74A089\"]"
   ]
  },
  {
   "cell_type": "code",
   "execution_count": 2,
   "metadata": {},
   "outputs": [
    {
     "name": "stderr",
     "output_type": "stream",
     "text": [
      "/var/folders/7p/jp6xqkvn5wb6ddl1fn0bhs980000gn/T/ipykernel_76993/2720075383.py:16: FutureWarning: The default value of numeric_only in DataFrameGroupBy.sum is deprecated. In a future version, numeric_only will default to False. Either specify numeric_only or select only columns which should be valid for the function.\n",
      "  ward_size_df                 = ward_size_df.groupby([\"date\", \"ward\", \"ward_id\"]).sum()[[\"num_patients\"]].reset_index().drop(columns=[\"date\"])\n",
      "/var/folders/7p/jp6xqkvn5wb6ddl1fn0bhs980000gn/T/ipykernel_76993/2720075383.py:29: SettingWithCopyWarning: \n",
      "A value is trying to be set on a copy of a slice from a DataFrame\n",
      "\n",
      "See the caveats in the documentation: https://pandas.pydata.org/pandas-docs/stable/user_guide/indexing.html#returning-a-view-versus-a-copy\n",
      "  cluster_diag_df[\"cluster\"][cluster_diag_df.cluster>=6] = 6\n"
     ]
    }
   ],
   "source": [
    "dates_simulation = pd.date_range(start=\"2020-02-01\", end=\"2021-02-28\", freq=\"D\")\n",
    "\n",
    "movement_df               = pd.read_csv(os.path.join(data_db_dir, \"long_files_8_25_2021\", 'patient_movement_2022-Nov.csv'), parse_dates=['date']).drop_duplicates(subset=[\"date\", \"mrn\"], keep=\"first\")\n",
    "movement_df[\"ward_total\"] = movement_df.apply(lambda x: x[\"ward\"]+\"-\"+x[\"building\"]+\"-\"+x[\"place\"], axis=1)\n",
    "movement_df               = movement_df[movement_df[\"date\"].isin(dates_simulation)]\n",
    "\n",
    "mrd2id  = {mrn: id for id, mrn in enumerate(movement_df.mrn.unique())}\n",
    "ward2id = {ward_name: id for id, ward_name in enumerate(movement_df.ward_total.unique())}\n",
    "\n",
    "movement_df[\"mrn_id\"]        = movement_df.mrn.map(mrd2id)\n",
    "movement_df[\"ward_id\"]       = movement_df.ward_total.map(ward2id)\n",
    "\n",
    "ward_size_df                 = movement_df.reset_index()\n",
    "ward_size_df[\"ward_id\"]      = ward_size_df[\"ward_total\"].apply(lambda x: ward2id[x])\n",
    "ward_size_df[\"num_patients\"] = 1\n",
    "ward_size_df                 = ward_size_df.groupby([\"date\", \"ward\", \"ward_id\"]).sum()[[\"num_patients\"]].reset_index().drop(columns=[\"date\"])\n",
    "ward_size_df                 = ward_size_df.groupby([\"ward\", \"ward_id\"]).mean().reset_index().sort_values(by=\"num_patients\")\n",
    "ward2size                    = {r.ward_id: r.num_patients for idx_r, r in ward_size_df.iterrows()}\n",
    "\n",
    "id2ward                      = dict((v, k) for k, v in ward2id.items())\n",
    "\n",
    "###-###-###-###-###-###-###-###-###-###-###-###\n",
    "cluster_diag_df              = pd.read_csv(os.path.join(\"..\", \"data\", \"infomap_nondiag.csv\"), sep=\" \").rename(columns={\"node_id\": \"ward_id\"})\n",
    "cluster_diag_df[\"ward_name\"] = cluster_diag_df[\"ward_id\"].map(id2ward)\n",
    "cluster_diag_df[\"cluster\"]   = cluster_diag_df.apply(lambda x: int(str(x.path).split(\":\")[0]), axis=1)\n",
    "cluster_diag_df              = cluster_diag_df[[\"cluster\", \"ward_id\", \"ward_name\"]].sort_values(by=\"cluster\")\n",
    "cluster_diag_df['num_wards'] = cluster_diag_df[\"cluster\"].apply(lambda x: np.sum(cluster_diag_df[\"cluster\"] == x))\n",
    "\n",
    "cluster_diag_df[\"cluster\"][cluster_diag_df.cluster>=6] = 6\n",
    "cluster_diag_df[\"cluster\"] = cluster_diag_df[\"cluster\"].map(lambda x: int(x-1))\n",
    "\n",
    "cluster_diag_df['num_wards']                           = cluster_diag_df[\"cluster\"].apply(lambda x: np.sum(cluster_diag_df[\"cluster\"] == x))\n",
    "###-###-###-###-###-###-###-###-###-###-###-###\n",
    "\n",
    "wardid2cluster         = dict(zip(cluster_diag_df[\"ward_id\"], cluster_diag_df[\"cluster\"]))\n",
    "movement_df[\"cluster\"] = movement_df[\"ward_id\"].map( wardid2cluster )\n",
    "movement_df[\"cluster\"] = movement_df[\"cluster\"].fillna(cluster_diag_df.cluster.max())\n",
    "movement_df[\"cluster\"] = movement_df[\"cluster\"].map(lambda x: int(x))\n"
   ]
  },
  {
   "cell_type": "code",
   "execution_count": 4,
   "metadata": {},
   "outputs": [
    {
     "name": "stderr",
     "output_type": "stream",
     "text": [
      "/Users/chaosdonkey06/anaconda3/envs/pompjax/lib/python3.8/site-packages/tqdm/auto.py:22: TqdmWarning: IProgress not found. Please update jupyter and ipywidgets. See https://ipywidgets.readthedocs.io/en/stable/user_install.html\n",
      "  from .autonotebook import tqdm as notebook_tqdm\n"
     ]
    }
   ],
   "source": [
    "sys.path.insert(0, \"../pompjax/pompjax/\")\n",
    "\n",
    "from pyro.contrib.forecast import eval_crps\n",
    "from eval import calibration\n",
    "\n",
    "def compute_evals(samples, obs, beta, rho,  name_var=\"beta\"):\n",
    "    \"\"\"_summary_\n",
    "\n",
    "    Args:\n",
    "        samples (_type_): num_ensembles x num_times\n",
    "        obs (_type_): time series observation\n",
    "\n",
    "    Returns:\n",
    "        _type_: _description_\n",
    "    \"\"\"\n",
    "\n",
    "    cal_df = calibration.calibration(np.expand_dims(samples.T, 0), np.expand_dims(obs, 0), observation_index=0)\n",
    "    sc     = np.mean(np.abs(cal_df.quantiles.values-cal_df.proportion_inside.values))\n",
    "\n",
    "    df_response              = pd.DataFrame(columns=['crps', 'calibration_score', name_var, \"rho\"])\n",
    "    df_response['crps']      = [eval_crps(samples, obs)]\n",
    "    df_response[\"calibration_score\"] = sc\n",
    "    df_response[name_var]    = [beta]\n",
    "    df_response['rho']       = [rho]\n",
    "\n",
    "    return df_response\n"
   ]
  },
  {
   "cell_type": "code",
   "execution_count": 5,
   "metadata": {},
   "outputs": [],
   "source": [
    "def create_amro_obs(amro, model_settings, resample=\"W-Sun\"):\n",
    "    dates_resamp = pd.date_range(model_settings[\"dates\"][0], model_settings[\"dates\"][-1], freq=resample)\n",
    "\n",
    "    test_df         = movement_df.copy(); test_df = test_df[test_df[\"test\"]==1]\n",
    "    amro_df         = test_df.copy()\n",
    "    amro_df[\"keep\"] = amro_df[\"organism_name\"].apply(lambda x: amro in str(x))\n",
    "    amro_df         = amro_df[amro_df[\"keep\"]==True]\n",
    "    amro_df         = amro_df.groupby([\"date\", \"cluster\"]).sum()[[\"test\"]].unstack([1]).fillna(0).resample(\"W-Sun\").sum()\n",
    "    amro_df         = amro_df.xs(\"test\", axis=1, drop_level=True)\n",
    "    amro_df         = amro_df.sum(axis=1)\n",
    "    amro_df         = amro_df.reindex(dates_resamp, fill_value=0)\n",
    "\n",
    "    return amro_df"
   ]
  },
  {
   "cell_type": "code",
   "execution_count": 6,
   "metadata": {},
   "outputs": [],
   "source": [
    "import torch\n",
    "\n",
    "def generate_combination(arr1, arr2):\n",
    "    a = []\n",
    "    for a1 in arr1:\n",
    "        for a2 in arr2:\n",
    "            a.append([a1, a2])\n",
    "    return np.array(a)\n",
    "\n",
    "def grid_search(f, f0, g, obs_df, model_settings, previous_search=None):\n",
    "    βmin  = 0.0\n",
    "    βmax  = 0.1\n",
    "    βstep = 0.005\n",
    "\n",
    "    ρmin  = 0.01\n",
    "    ρmax  = 0.1\n",
    "    ρstep = 0.01\n",
    "\n",
    "    ρ_search     = np.arange(ρmin, ρmax, ρstep)\n",
    "    β_search     = np.arange(βmin, βmax + βstep, βstep)\n",
    "\n",
    "    p_new_df  = pd.DataFrame(generate_combination(ρ_search, β_search), columns=[\"rho\", \"beta\"])\n",
    "    p_done_df = previous_search[[\"rho\", \"beta\"]]\n",
    "    p_df      = pd.concat([p_new_df, p_done_df]).drop_duplicates(subset=[\"rho\", \"beta\"], keep=False)\n",
    "\n",
    "    # sum across clusters\n",
    "    obs_world  = obs_df.values\n",
    "\n",
    "    metric_df = pd.DataFrame()\n",
    "    for idx_row, row in p_df.iterrows():\n",
    "        rho, beta = row[\"rho\"], row[\"beta\"]\n",
    "\n",
    "        observations       = simulate_abm(f, f0, g, beta, rho, model_settings)\n",
    "        observations       = np.sum(observations, axis=1)\n",
    "        sim_df             = pd.DataFrame(columns=[\"date\",\"ens_id\", \"values\", \"scenario\"])\n",
    "        sim_df[\"values\"]   = observations.flatten()\n",
    "        sim_df[\"date\"]     = flatten_list([ [date]*model_settings[\"m\"]  for date in  list(model_settings[\"dates\"])])\n",
    "        sim_df[\"ens_id\"]   = list(range(model_settings[\"m\"] )) * len(model_settings[\"dates\"])\n",
    "        sim_df[\"rho\"]      = rho\n",
    "\n",
    "        samples_t  = sim_df.set_index([\"date\", \"ens_id\", \"rho\"]).unstack([1, 2]).resample(\"W-Sun\").sum().stack().stack().reset_index()\n",
    "        samples_t  = pd.pivot(data=samples_t, index=\"date\", columns=\"ens_id\", values=\"values\").to_numpy().T\n",
    "        samples_t  = torch.tensor(samples_t);  obs_t  = torch.tensor(list(obs_world))\n",
    "        df_metrics = compute_evals(samples_t, obs_t, beta, rho)\n",
    "        metric_df  = pd.concat([metric_df, df_metrics])\n",
    "\n",
    "    return  pd.concat([metric_df, previous_search])\n",
    "\n",
    "def empirical_prevalence(amro, path_to_prev=\"../data/amro_prevalence.csv\"):\n",
    "    amro_prev_df = pd.read_csv(path_to_prev)\n",
    "    gamma        = amro_prev_df[amro_prev_df.amro==amro][\"prevalence_mean1\"].values[0]/100\n",
    "    return gamma\n"
   ]
  },
  {
   "cell_type": "code",
   "execution_count": 7,
   "metadata": {},
   "outputs": [],
   "source": [
    "amro_prevalence_df                 = pd.read_csv(os.path.join(\"..\", \"data\", \"amro_prevalence.csv\"))\n",
    "model_settings                     = {}\n",
    "model_settings[\"m\"]                = 100\n",
    "model_settings[\"p\"]                = 2\n",
    "model_settings[\"n\"]                = movement_df.mrn_id.unique().shape[0]\n",
    "model_settings[\"k\"]                = movement_df.cluster.unique().shape[0]\n",
    "model_settings[\"dates\"]            = pd.date_range(start=\"2020-02-01\", end=\"2021-02-28\", freq=\"D\")\n",
    "model_settings[\"dates_simulation\"] = pd.date_range(start=\"2020-02-01\", end=\"2021-02-28\", freq=\"D\")\n",
    "\n",
    "amro_search = ['ESCHERICHIA COLI', 'KLEBSIELLA PNEUMONIAE', 'PSEUDOMONAS AERUGINOSA', 'METHICILLIN-SUSCEPTIBLE STAPHYLOCOCCUS AUREUS',\n",
    "                'METHICILLIN-RESISTANT STAPHYLOCOCCUS AUREUS', 'STAPHYLOCOCCUS EPIDERMIDIS', 'ENTEROCOCCUS FAECALIS', 'ENTEROCOCCUS FAECIUM']\n"
   ]
  },
  {
   "cell_type": "code",
   "execution_count": null,
   "metadata": {},
   "outputs": [],
   "source": [
    "from models import amr_abm, observe_cluster\n",
    "\n",
    "def simulate_abm(f, f0, g, beta, rho, model_settings):\n",
    "    dates_simulation = model_settings[\"dates_simulation\"]\n",
    "\n",
    "    θ = np.array([[rho], [beta]]) * np.ones((model_settings[\"p\"], model_settings[\"m\"]))\n",
    "    x = f0(θ)\n",
    "\n",
    "    observations          = np.full((len(dates_simulation), model_settings[\"k\"], model_settings[\"m\"]), np.nan)\n",
    "    observations[0, :, :] = g(0, x, θ)\n",
    "\n",
    "    for t, date in tqdm.tqdm(enumerate(dates_simulation[1:])):\n",
    "        x                       = f(t, x, θ)\n",
    "        observations[t+1, :, :] = g(t, x, θ)\n",
    "    return observations"
   ]
  },
  {
   "cell_type": "code",
   "execution_count": 13,
   "metadata": {},
   "outputs": [
    {
     "ename": "TypeError",
     "evalue": "amr_abm() got an unexpected keyword argument 'x'",
     "output_type": "error",
     "traceback": [
      "\u001b[0;31m---------------------------------------------------------------------------\u001b[0m",
      "\u001b[0;31mTypeError\u001b[0m                                 Traceback (most recent call last)",
      "Cell \u001b[0;32mIn [13], line 34\u001b[0m\n\u001b[1;32m     26\u001b[0m observational_model \u001b[39m=\u001b[39m \u001b[39mlambda\u001b[39;00m t, x, θ: observe_cluster(t   \u001b[39m=\u001b[39m t,\n\u001b[1;32m     27\u001b[0m                                                     x   \u001b[39m=\u001b[39m x,\n\u001b[1;32m     28\u001b[0m                                                     rho \u001b[39m=\u001b[39m θ[\u001b[39m0\u001b[39m, :],\n\u001b[1;32m     29\u001b[0m                                                     movement       \u001b[39m=\u001b[39m movement_df[movement_df[\u001b[39m\"\u001b[39m\u001b[39mdate\u001b[39m\u001b[39m\"\u001b[39m]\u001b[39m==\u001b[39mdates_simulation[t]],\n\u001b[1;32m     30\u001b[0m                                                     model_settings \u001b[39m=\u001b[39m model_settings[\u001b[39m\"\u001b[39m\u001b[39mk\u001b[39m\u001b[39m\"\u001b[39m])\n\u001b[1;32m     32\u001b[0m θsim \u001b[39m=\u001b[39m np\u001b[39m.\u001b[39marray([[ρ], [β]]) \u001b[39m*\u001b[39m np\u001b[39m.\u001b[39mones((model_settings[\u001b[39m\"\u001b[39m\u001b[39mp\u001b[39m\u001b[39m\"\u001b[39m], model_settings[\u001b[39m\"\u001b[39m\u001b[39mm\u001b[39m\u001b[39m\"\u001b[39m]))\n\u001b[0;32m---> 34\u001b[0m x \u001b[39m=\u001b[39m init_state(θsim)\n",
      "Cell \u001b[0;32mIn [13], line 8\u001b[0m, in \u001b[0;36m<lambda>\u001b[0;34m(θ)\u001b[0m\n\u001b[1;32m      5\u001b[0m gamma              \u001b[39m=\u001b[39m empirical_prevalence(amro) \u001b[39m*\u001b[39m np\u001b[39m.\u001b[39mones(model_settings[\u001b[39m\"\u001b[39m\u001b[39mm\u001b[39m\u001b[39m\"\u001b[39m])\n\u001b[1;32m      7\u001b[0m alpha               \u001b[39m=\u001b[39m \u001b[39m1\u001b[39m\u001b[39m/\u001b[39m\u001b[39m120\u001b[39m\n\u001b[0;32m----> 8\u001b[0m init_state          \u001b[39m=\u001b[39m \u001b[39mlambda\u001b[39;00m θ:       amr_abm(t \u001b[39m=\u001b[39;49m \u001b[39m0\u001b[39;49m,\n\u001b[1;32m      9\u001b[0m                                                 x         \u001b[39m=\u001b[39;49m np\u001b[39m.\u001b[39;49mzeros((model_settings[\u001b[39m\"\u001b[39;49m\u001b[39mn\u001b[39;49m\u001b[39m\"\u001b[39;49m], model_settings[\u001b[39m\"\u001b[39;49m\u001b[39mm\u001b[39;49m\u001b[39m\"\u001b[39;49m])),\n\u001b[1;32m     10\u001b[0m                                                 gamma     \u001b[39m=\u001b[39;49m gamma,\n\u001b[1;32m     11\u001b[0m                                                 beta      \u001b[39m=\u001b[39;49m θ[\u001b[39m1\u001b[39;49m, :],\n\u001b[1;32m     12\u001b[0m                                                 alpha     \u001b[39m=\u001b[39;49m alpha,\n\u001b[1;32m     13\u001b[0m                                                 movement  \u001b[39m=\u001b[39;49m movement_df[movement_df[\u001b[39m\"\u001b[39;49m\u001b[39mdate\u001b[39;49m\u001b[39m\"\u001b[39;49m]\u001b[39m==\u001b[39;49mdates_simulation[\u001b[39m0\u001b[39;49m]],\n\u001b[1;32m     14\u001b[0m                                                 ward2size \u001b[39m=\u001b[39;49m ward2size,\n\u001b[1;32m     15\u001b[0m                                                 model_settings \u001b[39m=\u001b[39;49m model_settings[\u001b[39m\"\u001b[39;49m\u001b[39mn\u001b[39;49m\u001b[39m\"\u001b[39;49m])\n\u001b[1;32m     17\u001b[0m process_model       \u001b[39m=\u001b[39m \u001b[39mlambda\u001b[39;00m t, x, θ: amr_abm(t \u001b[39m=\u001b[39m t,\n\u001b[1;32m     18\u001b[0m                                                 x              \u001b[39m=\u001b[39m x,\n\u001b[1;32m     19\u001b[0m                                                 gamma          \u001b[39m=\u001b[39m gamma,\n\u001b[0;32m   (...)\u001b[0m\n\u001b[1;32m     23\u001b[0m                                                 ward2size      \u001b[39m=\u001b[39m ward2size,\n\u001b[1;32m     24\u001b[0m                                                 model_settings \u001b[39m=\u001b[39m model_settings[\u001b[39m\"\u001b[39m\u001b[39mn\u001b[39m\u001b[39m\"\u001b[39m])\n\u001b[1;32m     26\u001b[0m observational_model \u001b[39m=\u001b[39m \u001b[39mlambda\u001b[39;00m t, x, θ: observe_cluster(t   \u001b[39m=\u001b[39m t,\n\u001b[1;32m     27\u001b[0m                                                     x   \u001b[39m=\u001b[39m x,\n\u001b[1;32m     28\u001b[0m                                                     rho \u001b[39m=\u001b[39m θ[\u001b[39m0\u001b[39m, :],\n\u001b[1;32m     29\u001b[0m                                                     movement       \u001b[39m=\u001b[39m movement_df[movement_df[\u001b[39m\"\u001b[39m\u001b[39mdate\u001b[39m\u001b[39m\"\u001b[39m]\u001b[39m==\u001b[39mdates_simulation[t]],\n\u001b[1;32m     30\u001b[0m                                                     model_settings \u001b[39m=\u001b[39m model_settings[\u001b[39m\"\u001b[39m\u001b[39mk\u001b[39m\u001b[39m\"\u001b[39m])\n",
      "\u001b[0;31mTypeError\u001b[0m: amr_abm() got an unexpected keyword argument 'x'"
     ]
    }
   ],
   "source": [
    "\n",
    "\n",
    "β    = 0.01\n",
    "ρ    = 6/10\n",
    "amro = amro_search[0]\n",
    "\n",
    "gamma              = empirical_prevalence(amro) * np.ones(model_settings[\"m\"])\n",
    "\n",
    "alpha               = 1/120\n",
    "init_state          = lambda θ:       amr_abm(t = 0,\n",
    "                                                agents_state   = np.zeros((model_settings[\"n\"], model_settings[\"m\"])),\n",
    "                                                gamma          = gamma,\n",
    "                                                beta           = θ[1, :],\n",
    "                                                alpha          = alpha,\n",
    "                                                movement       = movement_df[movement_df[\"date\"]==dates_simulation[0]],\n",
    "                                                ward2size      = ward2size,\n",
    "                                                model_settings = model_settings[\"n\"])\n",
    "\n",
    "process_model       = lambda t, x, θ: amr_abm(t = t,\n",
    "                                                agents_state   = x,\n",
    "                                                gamma          = gamma,\n",
    "                                                beta           = θ[1, :],\n",
    "                                                alpha          = alpha,\n",
    "                                                movement       = movement_df[movement_df[\"date\"]==dates_simulation[t]],\n",
    "                                                ward2size      = ward2size,\n",
    "                                                model_settings = model_settings[\"n\"])\n",
    "\n",
    "observational_model = lambda t, x, θ: observe_cluster(t   = t,\n",
    "                                                    x              = x,\n",
    "                                                    rho            = θ[0, :],\n",
    "                                                    movement       = movement_df[movement_df[\"date\"]==dates_simulation[t]],\n",
    "                                                    model_settings = model_settings[\"k\"])\n",
    "\n",
    "θsim = np.array([[ρ], [β]]) * np.ones((model_settings[\"p\"], model_settings[\"m\"]))\n",
    "\n",
    "x = init_state(θsim)"
   ]
  },
  {
   "cell_type": "code",
   "execution_count": 10,
   "metadata": {},
   "outputs": [
    {
     "name": "stderr",
     "output_type": "stream",
     "text": [
      "/var/folders/7p/jp6xqkvn5wb6ddl1fn0bhs980000gn/T/ipykernel_76993/3994308721.py:8: FutureWarning: The default value of numeric_only in DataFrameGroupBy.sum is deprecated. In a future version, numeric_only will default to False. Either specify numeric_only or select only columns which should be valid for the function.\n",
      "  amro_df         = amro_df.groupby([\"date\", \"cluster\"]).sum()[[\"test\"]].unstack([1]).fillna(0).resample(\"W-Sun\").sum()\n"
     ]
    },
    {
     "ename": "TypeError",
     "evalue": "'int' object is not subscriptable",
     "output_type": "error",
     "traceback": [
      "\u001b[0;31m---------------------------------------------------------------------------\u001b[0m",
      "\u001b[0;31mTypeError\u001b[0m                                 Traceback (most recent call last)",
      "Cell \u001b[0;32mIn [10], line 15\u001b[0m\n\u001b[1;32m     12\u001b[0m obs_df              \u001b[39m=\u001b[39m create_amro_obs(amro, model_settings, resample\u001b[39m=\u001b[39m\u001b[39m\"\u001b[39m\u001b[39mW-Sun\u001b[39m\u001b[39m\"\u001b[39m)\n\u001b[1;32m     14\u001b[0m \u001b[39m# init state space\u001b[39;00m\n\u001b[0;32m---> 15\u001b[0m crps_amro_df \u001b[39m=\u001b[39m grid_search(process_model, init_state, observational_model,\n\u001b[1;32m     16\u001b[0m                         obs_df, model_settings, previous_search\u001b[39m=\u001b[39;49mprevious_search_df)\n\u001b[1;32m     18\u001b[0m crps_amro_df\u001b[39m.\u001b[39mto_csv( os\u001b[39m.\u001b[39mpath\u001b[39m.\u001b[39mjoin(results2_dir, \u001b[39m\"\u001b[39m\u001b[39mgrid_search\u001b[39m\u001b[39m\"\u001b[39m, \u001b[39m\"\u001b[39m\u001b[39mmetapopulation\u001b[39m\u001b[39m\"\u001b[39m, \u001b[39mf\u001b[39m\u001b[39m\"\u001b[39m\u001b[39m{\u001b[39;00mamro2cute(amro)\u001b[39m}\u001b[39;00m\u001b[39m.csv\u001b[39m\u001b[39m\"\u001b[39m) )\n",
      "Cell \u001b[0;32mIn [6], line 33\u001b[0m, in \u001b[0;36mgrid_search\u001b[0;34m(f, f0, g, obs_df, model_settings, previous_search)\u001b[0m\n\u001b[1;32m     30\u001b[0m \u001b[39mfor\u001b[39;00m idx_row, row \u001b[39min\u001b[39;00m p_df\u001b[39m.\u001b[39miterrows():\n\u001b[1;32m     31\u001b[0m     rho, beta \u001b[39m=\u001b[39m row[\u001b[39m\"\u001b[39m\u001b[39mrho\u001b[39m\u001b[39m\"\u001b[39m], row[\u001b[39m\"\u001b[39m\u001b[39mbeta\u001b[39m\u001b[39m\"\u001b[39m]\n\u001b[0;32m---> 33\u001b[0m     observations       \u001b[39m=\u001b[39m simulate_abm(f, f0, g, beta, rho, model_settings)\n\u001b[1;32m     34\u001b[0m     observations       \u001b[39m=\u001b[39m np\u001b[39m.\u001b[39msum(observations, axis\u001b[39m=\u001b[39m\u001b[39m1\u001b[39m)\n\u001b[1;32m     35\u001b[0m     sim_df             \u001b[39m=\u001b[39m pd\u001b[39m.\u001b[39mDataFrame(columns\u001b[39m=\u001b[39m[\u001b[39m\"\u001b[39m\u001b[39mdate\u001b[39m\u001b[39m\"\u001b[39m,\u001b[39m\"\u001b[39m\u001b[39mens_id\u001b[39m\u001b[39m\"\u001b[39m, \u001b[39m\"\u001b[39m\u001b[39mvalues\u001b[39m\u001b[39m\"\u001b[39m, \u001b[39m\"\u001b[39m\u001b[39mscenario\u001b[39m\u001b[39m\"\u001b[39m])\n",
      "Cell \u001b[0;32mIn [3], line 7\u001b[0m, in \u001b[0;36msimulate_abm\u001b[0;34m(f, f0, g, beta, rho, model_settings)\u001b[0m\n\u001b[1;32m      4\u001b[0m dates_simulation \u001b[39m=\u001b[39m model_settings[\u001b[39m\"\u001b[39m\u001b[39mdates_simulation\u001b[39m\u001b[39m\"\u001b[39m]\n\u001b[1;32m      6\u001b[0m θ \u001b[39m=\u001b[39m np\u001b[39m.\u001b[39marray([[rho], [beta]]) \u001b[39m*\u001b[39m np\u001b[39m.\u001b[39mones((model_settings[\u001b[39m\"\u001b[39m\u001b[39mp\u001b[39m\u001b[39m\"\u001b[39m], model_settings[\u001b[39m\"\u001b[39m\u001b[39mm\u001b[39m\u001b[39m\"\u001b[39m]))\n\u001b[0;32m----> 7\u001b[0m x \u001b[39m=\u001b[39m f0(θ)\n\u001b[1;32m      9\u001b[0m observations          \u001b[39m=\u001b[39m np\u001b[39m.\u001b[39mfull((\u001b[39mlen\u001b[39m(dates_simulation), model_settings[\u001b[39m\"\u001b[39m\u001b[39mk\u001b[39m\u001b[39m\"\u001b[39m], model_settings[\u001b[39m\"\u001b[39m\u001b[39mm\u001b[39m\u001b[39m\"\u001b[39m]), np\u001b[39m.\u001b[39mnan)\n\u001b[1;32m     10\u001b[0m observations[\u001b[39m0\u001b[39m, :, :] \u001b[39m=\u001b[39m g(\u001b[39m0\u001b[39m, x, θ)\n",
      "Cell \u001b[0;32mIn [10], line 8\u001b[0m, in \u001b[0;36m<lambda>\u001b[0;34m(θ)\u001b[0m\n\u001b[1;32m      6\u001b[0m alpha               \u001b[39m=\u001b[39m \u001b[39m1\u001b[39m\u001b[39m/\u001b[39m\u001b[39m120\u001b[39m\n\u001b[1;32m      7\u001b[0m x                   \u001b[39m=\u001b[39m np\u001b[39m.\u001b[39mzeros((model_settings[\u001b[39m\"\u001b[39m\u001b[39mn\u001b[39m\u001b[39m\"\u001b[39m], model_settings[\u001b[39m\"\u001b[39m\u001b[39mm\u001b[39m\u001b[39m\"\u001b[39m]))\n\u001b[0;32m----> 8\u001b[0m init_state          \u001b[39m=\u001b[39m \u001b[39mlambda\u001b[39;00m θ:       amr_abm(\u001b[39m0\u001b[39;49m, x, gamma, θ[\u001b[39m1\u001b[39;49m, :], alpha, movement_df[movement_df[\u001b[39m\"\u001b[39;49m\u001b[39mdate\u001b[39;49m\u001b[39m\"\u001b[39;49m]\u001b[39m==\u001b[39;49mdates_simulation[\u001b[39m0\u001b[39;49m]], ward2size, model_settings[\u001b[39m\"\u001b[39;49m\u001b[39mn\u001b[39;49m\u001b[39m\"\u001b[39;49m])\n\u001b[1;32m      9\u001b[0m process_model       \u001b[39m=\u001b[39m \u001b[39mlambda\u001b[39;00m t, x, θ: amr_abm(t, x, gamma, θ[\u001b[39m1\u001b[39m, :], alpha, movement_df[movement_df[\u001b[39m\"\u001b[39m\u001b[39mdate\u001b[39m\u001b[39m\"\u001b[39m]\u001b[39m==\u001b[39mdates_simulation[t]], ward2size, model_settings[\u001b[39m\"\u001b[39m\u001b[39mn\u001b[39m\u001b[39m\"\u001b[39m])\n\u001b[1;32m     10\u001b[0m observational_model \u001b[39m=\u001b[39m \u001b[39mlambda\u001b[39;00m t, x, θ: observe_cluster(t, x, movement_df[movement_df[\u001b[39m\"\u001b[39m\u001b[39mdate\u001b[39m\u001b[39m\"\u001b[39m]\u001b[39m==\u001b[39mdates_simulation[t]], θ[\u001b[39m0\u001b[39m, :], model_settings[\u001b[39m\"\u001b[39m\u001b[39mk\u001b[39m\u001b[39m\"\u001b[39m])\n",
      "File \u001b[0;32m~/Dropbox/My Mac (Jaimes-MacBook-Pro.local)/Desktop/Shaman-lab/AMR_ABM2/abm/models.py:26\u001b[0m, in \u001b[0;36mamr_abm\u001b[0;34m(t, agents_state, gamma, beta, alpha, movement, ward2size, model_settings)\u001b[0m\n\u001b[1;32m     24\u001b[0m β   \u001b[39m=\u001b[39m beta               \u001b[39m# nosocomial transmission rate.\u001b[39;00m\n\u001b[1;32m     25\u001b[0m α   \u001b[39m=\u001b[39m alpha              \u001b[39m# decolonization rate.\u001b[39;00m\n\u001b[0;32m---> 26\u001b[0m n  \u001b[39m=\u001b[39m model_settings[\u001b[39m\"\u001b[39;49m\u001b[39mn\u001b[39;49m\u001b[39m\"\u001b[39;49m] \u001b[39m# number of patients\u001b[39;00m\n\u001b[1;32m     27\u001b[0m m  \u001b[39m=\u001b[39m model_settings[\u001b[39m\"\u001b[39m\u001b[39mm\u001b[39m\u001b[39m\"\u001b[39m] \u001b[39m# number of ensembles\u001b[39;00m\n\u001b[1;32m     29\u001b[0m \u001b[39m# Decolonize patients according to. P(C2S) = α\u001b[39;00m\n\u001b[1;32m     30\u001b[0m \u001b[39m#agents_state.at[:].set(np.maximum(agents_state - agents_state * (random.uniform(key=key, shape=(Np, )) < α), 0))\u001b[39;00m\n\u001b[1;32m     31\u001b[0m \u001b[39m#agents_state = agents_state - agents_state * (np.random.uniform(size=(Np, )) < α)\u001b[39;00m\n",
      "\u001b[0;31mTypeError\u001b[0m: 'int' object is not subscriptable"
     ]
    }
   ],
   "source": [
    "from utils_local.misc import amro2cute\n",
    "for amro in amro_search:\n",
    "    previous_search_df = pd.read_csv( os.path.join(\"..\", \"preliminary_results\", f\"crps_{amro2cute(amro)}.csv\"), index_col=None).drop(columns=['Unnamed: 0'])\n",
    "    gamma              = empirical_prevalence(amro) * np.ones(model_settings[\"m\"])\n",
    "\n",
    "    alpha               = 1/120\n",
    "    x                   = np.zeros((model_settings[\"n\"], model_settings[\"m\"]))\n",
    "    init_state          = lambda θ:       amr_abm(0, x, gamma, θ[1, :], alpha, movement_df[movement_df[\"date\"]==dates_simulation[0]], ward2size, model_settings[\"n\"])\n",
    "    process_model       = lambda t, x, θ: amr_abm(t, x, gamma, θ[1, :], alpha, movement_df[movement_df[\"date\"]==dates_simulation[t]], ward2size, model_settings[\"n\"])\n",
    "    observational_model = lambda t, x, θ: observe_cluster(t, x, movement_df[movement_df[\"date\"]==dates_simulation[t]], θ[0, :], model_settings[\"k\"])\n",
    "\n",
    "    obs_df              = create_amro_obs(amro, model_settings, resample=\"W-Sun\")\n",
    "\n",
    "    # init state space\n",
    "    crps_amro_df = grid_search(process_model, init_state, observational_model,\n",
    "                            obs_df, model_settings, previous_search=previous_search_df)\n",
    "\n",
    "    crps_amro_df.to_csv( os.path.join(results2_dir, \"grid_search\", \"metapopulation\", f\"{amro2cute(amro)}.csv\") )\n"
   ]
  },
  {
   "cell_type": "code",
   "execution_count": null,
   "metadata": {},
   "outputs": [],
   "source": []
  }
 ],
 "metadata": {
  "kernelspec": {
   "display_name": "Python (POMPJAX)",
   "language": "python",
   "name": "pompjax"
  },
  "language_info": {
   "codemirror_mode": {
    "name": "ipython",
    "version": 3
   },
   "file_extension": ".py",
   "mimetype": "text/x-python",
   "name": "python",
   "nbconvert_exporter": "python",
   "pygments_lexer": "ipython3",
   "version": "3.8.13"
  },
  "orig_nbformat": 4,
  "vscode": {
   "interpreter": {
    "hash": "e23b8103492689b0d9748b47018d3861a561878402e3a1e7a565e9dcb2ea3867"
   }
  }
 },
 "nbformat": 4,
 "nbformat_minor": 2
}
