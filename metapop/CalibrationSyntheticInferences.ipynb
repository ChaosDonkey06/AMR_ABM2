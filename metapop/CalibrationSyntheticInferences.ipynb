{
 "cells": [
  {
   "cell_type": "code",
   "execution_count": 1,
   "metadata": {},
   "outputs": [],
   "source": [
    "from scipy.stats import truncnorm\n",
    "import pandas as pd\n",
    "import numpy as np\n",
    "import itertools\n",
    "import datetime\n",
    "import tqdm\n",
    "import sys\n",
    "import os\n",
    "\n",
    "def flatten_list(list_array):\n",
    "    return list(itertools.chain(*list_array))\n",
    "\n",
    "sys.path.insert(0, \"../\")\n",
    "sys.path.insert(0,\"../pompjax/pompjax/\")\n",
    "\n",
    "from global_config import config\n",
    "\n",
    "results_dir           = config.get_property('results_dir')\n",
    "results2_dir           = config.get_property('results2_dir')\n",
    "\n",
    "data_dir              = config.get_property('data_dir')\n",
    "paper_dir             = config.get_property('paper_dir')\n",
    "data_db_dir           = config.get_property('data_db_dir')\n",
    "feb_hosp_records_path = os.path.join(data_db_dir, 'long_files_8_25_2021')\n",
    "path_to_save          = os.path.join(results_dir, \"real_testing\", \"community\")\n",
    "\n",
    "COLOR_LIST1           = [\"#F8AFA8\", \"#FDDDA0\", \"#F5CDB4\", \"#74A089\"]\n",
    "\n",
    "# pompjax imports\n",
    "from utils_local.misc import amro2title, amro2cute\n",
    "import matplotlib.pyplot as plt\n",
    "\n",
    "from eval.calibration import calibration\n",
    "from utils import create_df_response\n"
   ]
  },
  {
   "cell_type": "code",
   "execution_count": 2,
   "metadata": {},
   "outputs": [],
   "source": [
    "from utils_data_metapop import create_population_data, create_time_transfers\n",
    "\n",
    "path_to_ward_counts = os.path.join(data_db_dir, \"long_files_8_25_2021\", \"counts_ward.csv\" )\n",
    "path_to_ward_transf = os.path.join(data_db_dir, \"long_files_8_25_2021\", \"transfers_ward.csv\" )\n",
    "\n",
    "A_df, D_df, H_df, tests_df, Hmean_df = create_population_data(path_to_ward_counts)\n",
    "\n",
    "num_wards  = len(Hmean_df)\n",
    "ward_names = list(Hmean_df.index)\n",
    "M_df       = create_time_transfers(path_to_ward_transf, num_wards=num_wards, ward_names=ward_names)\n",
    "\n",
    "selected_buildings = ['Allen Hospital-Allen', 'Harkness Pavilion-Columbia', 'Milstein Hospital-Columbia', 'Mschony-Chony', 'Presbyterian Hospital-Columbia']\n",
    "building2id        = {selected_buildings[i]: i for i in range(len(selected_buildings))}\n",
    "\n",
    "def building2observation(building):\n",
    "    if building in selected_buildings:\n",
    "        return building2id[building]\n",
    "    else:\n",
    "        return 5\n",
    "\n",
    "ward_names_df                = pd.DataFrame(ward_names, columns=[\"ward\"])\n",
    "ward_names_df[\"building\"]    = ward_names_df[\"ward\"].apply(lambda x: \"-\".join(x.split(\"-\")[1:]))\n",
    "ward_names_df[\"buidling_id\"] = ward_names_df[\"building\"].apply(lambda x: building2observation(x) )\n",
    "ward_names_df[\"ward_id\"]     = ward_names_df.apply(lambda x: np.where(ward_names_df.ward == x.ward)[0][0], axis=1)\n",
    "wardid2buildingid            = {row.ward_id: row.buidling_id for i, row in ward_names_df.iterrows()}\n",
    "\n",
    "\n",
    "from models import process_metapop, observe_metapop_cluster, init_metapop, simulate_metapop, simulate_metapop_observations\n",
    "from utils_local.misc import amro2cute\n",
    "\n",
    "delta = 1/120  # decolonization rate\n",
    "A     = A_df.to_numpy()\n",
    "D     = D_df.to_numpy()\n",
    "H     = H_df.to_numpy()\n",
    "M     = M_df\n",
    "tests = tests_df.to_numpy()\n"
   ]
  },
  {
   "cell_type": "code",
   "execution_count": 3,
   "metadata": {},
   "outputs": [],
   "source": [
    "#### create scenarios ####\n",
    "amro_search  = ['ESCHERICHIA COLI', 'KLEBSIELLA PNEUMONIAE',  'PSEUDOMONAS AERUGINOSA',\n",
    "            'METHICILLIN-SUSCEPTIBLE STAPHYLOCOCCUS AUREUS', 'METHICILLIN-RESISTANT STAPHYLOCOCCUS AUREUS',\n",
    "            \"STAPHYLOCOCCUS EPIDERMIDIS\", 'ENTEROCOCCUS FAECALIS', 'ENTEROCOCCUS FAECIUM']\n",
    "\n",
    "path_to_scenarios         = os.path.join(results2_dir, \"synthetic_inferences\", \"metapopulation\")\n"
   ]
  },
  {
   "cell_type": "markdown",
   "metadata": {},
   "source": [
    "## calibration not adjusting the state space"
   ]
  },
  {
   "cell_type": "code",
   "execution_count": 4,
   "metadata": {},
   "outputs": [],
   "source": [
    "dates_simulation = pd.date_range(start=pd.to_datetime(\"2020-02-01\"), end=pd.to_datetime(\"2021-02-28\"), freq=\"D\")\n",
    "num_pop          = num_wards\n",
    "\n",
    "model_settings = {\n",
    "                \"n\"              : 3 * num_pop,           # number of state variables / dimension of the state space\n",
    "                \"T\"              : len(dates_simulation),  # time to run\n",
    "                \"num_pop\"        : num_pop,\n",
    "                \"dates\"          : dates_simulation,\n",
    "                \"num_build\"      : len(np.unique(list(wardid2buildingid.values()))),\n",
    "                \"k\"              : len(np.unique(list(wardid2buildingid.values()))) # observing at the building aggregation\n",
    "                }"
   ]
  },
  {
   "cell_type": "code",
   "execution_count": 5,
   "metadata": {},
   "outputs": [
    {
     "name": "stdout",
     "output_type": "stream",
     "text": [
      "Running IF-EAKF for amro:  E. coli\n"
     ]
    },
    {
     "name": "stderr",
     "output_type": "stream",
     "text": [
      "100%|██████████| 30/30 [10:53<00:00, 21.77s/it]\n",
      "100%|██████████| 30/30 [08:18<00:00, 16.61s/it]\n",
      "100%|██████████| 30/30 [07:37<00:00, 15.25s/it]\n",
      "100%|██████████| 30/30 [07:43<00:00, 15.46s/it]\n",
      "100%|██████████| 30/30 [07:54<00:00, 15.82s/it]\n",
      "100%|██████████| 30/30 [08:02<00:00, 16.07s/it]\n",
      "100%|██████████| 30/30 [07:31<00:00, 15.03s/it]\n",
      "100%|██████████| 30/30 [07:24<00:00, 14.81s/it]\n",
      "100%|██████████| 30/30 [07:29<00:00, 14.98s/it]\n",
      "100%|██████████| 30/30 [08:05<00:00, 16.18s/it]\n"
     ]
    },
    {
     "name": "stdout",
     "output_type": "stream",
     "text": [
      "Running IF-EAKF for amro:  K. pneumoniae\n"
     ]
    },
    {
     "name": "stderr",
     "output_type": "stream",
     "text": [
      "100%|██████████| 30/30 [08:22<00:00, 16.74s/it]\n",
      "100%|██████████| 30/30 [07:11<00:00, 14.40s/it]\n",
      "100%|██████████| 30/30 [07:11<00:00, 14.38s/it]\n",
      "100%|██████████| 30/30 [07:07<00:00, 14.24s/it]\n",
      "100%|██████████| 30/30 [07:43<00:00, 15.46s/it]\n",
      "100%|██████████| 30/30 [08:07<00:00, 16.25s/it]\n",
      "100%|██████████| 30/30 [08:00<00:00, 16.03s/it]\n",
      "100%|██████████| 30/30 [08:03<00:00, 16.11s/it]\n",
      "100%|██████████| 30/30 [07:42<00:00, 15.41s/it]\n",
      "100%|██████████| 30/30 [07:38<00:00, 15.29s/it]\n"
     ]
    },
    {
     "name": "stdout",
     "output_type": "stream",
     "text": [
      "Running IF-EAKF for amro:  P. aeruginosa\n"
     ]
    },
    {
     "name": "stderr",
     "output_type": "stream",
     "text": [
      "100%|██████████| 30/30 [07:12<00:00, 14.42s/it]\n",
      "100%|██████████| 30/30 [07:28<00:00, 14.94s/it]\n",
      "100%|██████████| 30/30 [07:50<00:00, 15.70s/it]\n",
      "100%|██████████| 30/30 [07:48<00:00, 15.63s/it]\n",
      "100%|██████████| 30/30 [07:30<00:00, 15.03s/it]\n",
      "100%|██████████| 30/30 [07:21<00:00, 14.71s/it]\n",
      "100%|██████████| 30/30 [07:26<00:00, 14.88s/it]\n",
      "100%|██████████| 30/30 [08:01<00:00, 16.05s/it]\n",
      "100%|██████████| 30/30 [07:55<00:00, 15.87s/it]\n",
      "100%|██████████| 30/30 [08:18<00:00, 16.60s/it]\n"
     ]
    },
    {
     "name": "stdout",
     "output_type": "stream",
     "text": [
      "Running IF-EAKF for amro:  MSSA\n"
     ]
    },
    {
     "name": "stderr",
     "output_type": "stream",
     "text": [
      "100%|██████████| 30/30 [08:03<00:00, 16.12s/it]\n",
      "100%|██████████| 30/30 [08:00<00:00, 16.02s/it]\n",
      " 53%|█████▎    | 16/30 [04:33<03:48, 16.33s/it]"
     ]
    }
   ],
   "source": [
    "from utils_data_metapop import empirical_prevalence\n",
    "from tqdm import tqdm\n",
    "\n",
    "for idx_amro, amro in enumerate(amro_search):\n",
    "    print(\"Running IF-EAKF for amro: \", amro2title(amro))\n",
    "    path_to_save = os.path.join(results2_dir, \"synthetic_inferences\", \"metapopulation\", f\"{amro2cute(amro)}\")\n",
    "    scenarios_df = pd.read_csv(os.path.join(path_to_save, \"scenarios.csv\"))\n",
    "\n",
    "    gamma        = empirical_prevalence(amro, path_to_prev=\"../data/amro_prevalence.csv\")\n",
    "\n",
    "    calibration_df = pd.DataFrame()\n",
    "    for idx_row, row in scenarios_df.iterrows():\n",
    "        #idx_row, row = next(scenarios_df.iterrows())\n",
    "        inference = np.load(os.path.join(path_to_save, \"no_adjust_state_space\",\n",
    "                                        f\"scenario{idx_row+1}\", f\"{str(0).zfill(3)}posterior.npz\"))\n",
    "\n",
    "        θmle      = inference[\"mle\"]\n",
    "        θpost     = inference[\"posterior\"]\n",
    "        x_sim     = inference[\"state_space\"]\n",
    "        y_sim     = inference[\"observations\"]\n",
    "        θtruth    = inference[\"teta_truth\"]\n",
    "        idx_infer = inference[\"idx_infer\"]\n",
    "        Nif       = θpost.shape[-1]\n",
    "\n",
    "        model_settings[\"m\"] = θpost.shape[1]\n",
    "\n",
    "        f0  = lambda θ:  init_metapop(N0               = H[:, 0],\n",
    "                                        c0             = gamma,\n",
    "                                        model_settings = model_settings)\n",
    "\n",
    "        f  = lambda t, x, θ: process_metapop(t, x,\n",
    "                                                gamma = gamma * np.ones(model_settings[\"m\"]),\n",
    "                                                beta  = θ[1, :],\n",
    "                                                delta = delta,\n",
    "                                                Nmean = np.expand_dims(Hmean_df, -1),\n",
    "                                                N     = H[:, [t]],\n",
    "                                                A     = A[:, [t]],\n",
    "                                                D     = D[:, [t]],\n",
    "                                                M     = M[:, :, t])\n",
    "\n",
    "        g = lambda t, x, θ: observe_metapop_cluster(t, x,\n",
    "                                                    rho            = θ[0, :],\n",
    "                                                    N              = H[:, [t]],\n",
    "                                                    num_tests      = tests[:, [t]],\n",
    "                                                    model_settings = model_settings,\n",
    "                                                    ward2cluster   = wardid2buildingid)\n",
    "\n",
    "        observation = np.sum(y_sim[:, :, idx_infer].transpose(1, 0), axis=0, keepdims=True)\n",
    "\n",
    "        θpost = np.mean(θpost, -2)\n",
    "\n",
    "        for if_iter in tqdm(range(Nif)):\n",
    "            θsim  = θpost[:, :, if_iter]\n",
    "            x_sim, obs_sim     = simulate_metapop(process_model = f,\n",
    "                                            observational_model = g,\n",
    "                                            init_state          = f0,\n",
    "                                            θsim                = θsim,\n",
    "                                            model_settings      = model_settings)\n",
    "\n",
    "            obs_sim           = np.sum(obs_sim.transpose(1, 0, 2) , axis=0, keepdims=True)\n",
    "            cal_df            = calibration(obs_sim, observation, observation_index=0, dates=model_settings[\"dates\"])\n",
    "            cal_df[\"if_iter\"] = if_iter\n",
    "            cal_df[\"score\"]   = np.mean(np.abs(cal_df.quantiles.values - cal_df.proportion_inside.values))\n",
    "            calibration_df    = pd.concat([calibration_df, cal_df])\n",
    "        calibration_df[\"scenario\"] = f\"scenario{idx_row+1}\"\n",
    "\n",
    "    calibration_df[\"amro\"] = amro\n",
    "    calibration_df.to_csv(os.path.join(path_to_save, \"no_adjust_state_space\", \"calibration.csv\"), index=False)\n"
   ]
  },
  {
   "cell_type": "code",
   "execution_count": null,
   "metadata": {},
   "outputs": [],
   "source": [
    "import seaborn as sns\n",
    "\n",
    "fig, ax = plt.subplots(1, 1, figsize=(7, 7))\n",
    "#ax.plot(cal_df.quantiles, cal_df.proportion_inside, color=\"red\", marker=\"o\")\n",
    "sns.lineplot(ax=ax, x=\"quantiles\", y=\"proportion_inside\", data=calibration_df, hue=\"if_iter\", legend=True, palette=\"mako\", marker=\"o\")\n",
    "ax.plot(np.linspace(0,1), np.linspace(0,1), ls=\"--\", color=\"k\")\n",
    "ax.legend(title=\"IF iteration\")\n",
    "ax.set_xlabel(\"Predictive CI\")\n",
    "ax.set_ylabel(\"Observed CI\")\n"
   ]
  },
  {
   "cell_type": "code",
   "execution_count": null,
   "metadata": {},
   "outputs": [],
   "source": [
    "cal_time_df = calibration_df[[\"if_iter\", \"score\"]].groupby(\"if_iter\").mean()\n",
    "\n",
    "fig, ax = plt.subplots(1, 1, figsize=(7.2, 5))\n",
    "ax.plot(cal_time_df.index, cal_time_df.score, marker=\"o\", lw=2, c=\"k\")\n",
    "ax.set_xlabel(\"IF iteration\")\n",
    "ax.set_ylabel(r\"Calibration score: $\\mathbb{E}\\left\\{|CI - PI|\\right\\}$\")\n",
    "ax.set_title(f\"{amro2title(amro)} calibration\")"
   ]
  },
  {
   "cell_type": "code",
   "execution_count": null,
   "metadata": {},
   "outputs": [],
   "source": []
  }
 ],
 "metadata": {
  "kernelspec": {
   "display_name": "Python (POMPJAX)",
   "language": "python",
   "name": "pompjax"
  },
  "language_info": {
   "codemirror_mode": {
    "name": "ipython",
    "version": 3
   },
   "file_extension": ".py",
   "mimetype": "text/x-python",
   "name": "python",
   "nbconvert_exporter": "python",
   "pygments_lexer": "ipython3",
   "version": "3.8.13"
  },
  "orig_nbformat": 4,
  "vscode": {
   "interpreter": {
    "hash": "e23b8103492689b0d9748b47018d3861a561878402e3a1e7a565e9dcb2ea3867"
   }
  }
 },
 "nbformat": 4,
 "nbformat_minor": 2
}
