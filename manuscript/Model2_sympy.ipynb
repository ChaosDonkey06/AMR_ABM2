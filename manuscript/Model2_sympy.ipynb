{
 "cells": [
  {
   "cell_type": "code",
   "execution_count": 3,
   "metadata": {},
   "outputs": [],
   "source": [
    "import sympy as sp\n",
    "\n",
    "# Define symbols.\n",
    "σ, γ, β, α, δ1, τ1, δ2, τ2, N = sp.symbols('σ γ β α δ1 τ1 δ2 τ2 N')\n",
    "\n",
    "# Define variables.\n",
    "S, C, I = sp.var('S C I')"
   ]
  },
  {
   "attachments": {},
   "cell_type": "markdown",
   "metadata": {},
   "source": [
    "# DFE"
   ]
  },
  {
   "cell_type": "code",
   "execution_count": 30,
   "metadata": {},
   "outputs": [
    {
     "name": "stdout",
     "output_type": "stream",
     "text": [
      "\\bar{S}= \\frac{\\sigma}{\\delta_1}\n",
      "\\bar{C}= 0\n",
      "\\bar{I}= 0\n",
      "\n",
      "\n",
      "\\bar{S}= \\frac{N \\left(\\delta_2 + \\tau_2\\right) \\left(\\alpha + \\delta_1 + \\tau_1\\right)}{\\beta \\left(\\alpha + \\delta_2 + \\tau_2\\right)}\n",
      "\\bar{C}= - \\frac{\\left(\\delta_2 + \\tau_2\\right) \\left(N \\left(\\alpha \\delta_1 \\delta_2 + \\alpha \\delta_1 \\tau_2 + \\delta_1^2 \\delta_2 + \\delta_1^2 \\tau_2 + \\delta_1 \\delta_2 \\tau_1 + \\delta_1 \\tau_1 \\tau_2\\right) - \\alpha \\beta \\sigma - \\beta \\delta_2 \\sigma - \\beta \\sigma \\tau_2\\right)}{\\beta \\left(\\alpha + \\delta_2 + \\tau_2\\right) \\left(\\alpha \\delta_2 + \\delta_1 \\delta_2 + \\delta_1 \\tau_2\\right)}\n",
      "\\bar{I}= - \\frac{\\alpha \\left(N \\left(\\alpha \\delta_1 \\delta_2 + \\alpha \\delta_1 \\tau_2 + \\delta_1^2 \\delta_2 + \\delta_1^2 \\tau_2 + \\delta_1 \\delta_2 \\tau_1 + \\delta_1 \\tau_1 \\tau_2\\right) - \\alpha \\beta \\sigma - \\beta \\delta_2 \\sigma - \\beta \\sigma \\tau_2\\right)}{\\beta \\left(\\alpha + \\delta_2 + \\tau_2\\right) \\left(\\alpha \\delta_2 + \\delta_1 \\delta_2 + \\delta_1 \\tau_2\\right)}\n"
     ]
    }
   ],
   "source": [
    "λ = β * (C+I)/N\n",
    "\n",
    "eq1 = sp.Eq(0, σ * (1) - λ * S - δ1 * S + τ1 * C + τ2*I)\n",
    "eq2 = sp.Eq(0,  0      + λ * S - δ1 * C - τ1 * C - α * C)\n",
    "eq3 = sp.Eq(0,             α * C - δ2 * I - τ2 * I)\n",
    "\n",
    "equilibria = [sp.simplify(l) for l in sp.solve([eq1, eq2, eq3], [S, C, I])]\n",
    "\n",
    "####-####-####-####\n",
    "eql0    = [sp.collect(sp.simplify(l), N) for l in equilibria[0]]\n",
    "eql1    = [sp.collect(sp.simplify(l), N) for l in equilibria[1]]\n",
    "####-####-####-####\n",
    "\n",
    "variables = [\"\\\\bar{S}\", \"\\\\bar{C}\", \"\\\\bar{I}\"]\n",
    "for idx_s, l in enumerate(eql0):\n",
    "    print(variables[idx_s]+\"=\", sp.latex(l).replace(\"β\", \"\\\\beta\").replace(\"τ\", \"\\\\tau\").replace(\"δ\", \"\\delta\").replace(\"γ\", \"\\gamma\").replace(\"σ\", \"\\sigma\").replace(\"{2}\", \"2\").replace(\"{1}\", \"1\"))\n",
    "\n",
    "print(\"\\n\")\n",
    "\n",
    "for idx_s, l in enumerate(eql1):\n",
    "    print(variables[idx_s]+\"=\", sp.latex(l).replace(\"β\", \"\\\\beta\").replace(\"τ\", \"\\\\tau\").replace(\"δ\", \"\\delta\").replace(\"α\", \"\\\\alpha\").replace(\"γ\", \"\\gamma\").replace(\"σ\", \"\\sigma\").replace(\"{2}\", \"2\").replace(\"{1}\", \"1\"))\n"
   ]
  },
  {
   "cell_type": "code",
   "execution_count": 49,
   "metadata": {},
   "outputs": [
    {
     "name": "stdout",
     "output_type": "stream",
     "text": [
      "$\\lambda$_1=0\n",
      "$\\lambda$_2=\\frac{S \\beta \\left(\\alpha + \\delta_2 + \\tau_2\\right)}{N \\left(\\delta_2 + \\tau_2\\right) \\left(\\alpha + \\delta_1 + \\tau_1\\right)}\n"
     ]
    }
   ],
   "source": [
    "\n",
    "f1 = β * S * (C+I)/N\n",
    "f2 = 0\n",
    "\n",
    "v1 = τ1 * C + δ1 * C + α * C\n",
    "v2 = τ2 * I + δ2 * I - α * C\n",
    "\n",
    "F     = sp.Matrix([f1, f2]); F = F.jacobian([C, I])\n",
    "V     = sp.Matrix([v1, v2]); V = V.jacobian([C, I])\n",
    "V_inv = V.inv()\n",
    "\n",
    "Rnots = sp.MatMul(F * V_inv)\n",
    "Rnots = sp.Matrix(Rnots)\n",
    "Rnots = list(Rnots.eigenvals().keys())\n",
    "\n",
    "for idx_l, l in enumerate(Rnots):\n",
    "    print(r\"$\\lambda$_{}=\".format(idx_l+1)+\"\"+sp.latex(l).replace(\"β\", \"\\\\beta\").replace(\"τ\", \"\\\\tau\").replace(\"δ\", \"\\delta\").replace(\"α\", \"\\\\alpha\").replace(\"γ\", \"\\gamma\").replace(\"σ\", \"\\sigma\").replace(\"{2}\", \"2\").replace(\"{1}\", \"1\"))\n"
   ]
  },
  {
   "cell_type": "code",
   "execution_count": 46,
   "metadata": {},
   "outputs": [
    {
     "data": {
      "text/latex": [
       "$\\displaystyle \\left[\\begin{matrix}\\frac{S α β}{N \\left(α δ_{2} + α τ_{2} + δ_{1} δ_{2} + δ_{1} τ_{2} + δ_{2} τ_{1} + τ_{1} τ_{2}\\right)} + \\frac{S β}{N \\left(α + δ_{1} + τ_{1}\\right)} & \\frac{S β}{N \\left(δ_{2} + τ_{2}\\right)}\\\\0 & 0\\end{matrix}\\right]$"
      ],
      "text/plain": [
       "Matrix([\n",
       "[S*α*β/(N*(α*δ2 + α*τ2 + δ1*δ2 + δ1*τ2 + δ2*τ1 + τ1*τ2)) + S*β/(N*(α + δ1 + τ1)), S*β/(N*(δ2 + τ2))],\n",
       "[                                                                              0,                 0]])"
      ]
     },
     "execution_count": 46,
     "metadata": {},
     "output_type": "execute_result"
    }
   ],
   "source": []
  },
  {
   "cell_type": "code",
   "execution_count": null,
   "metadata": {},
   "outputs": [],
   "source": []
  }
 ],
 "metadata": {
  "kernelspec": {
   "display_name": "Python (POMPJAX)",
   "language": "python",
   "name": "pompjax"
  },
  "language_info": {
   "codemirror_mode": {
    "name": "ipython",
    "version": 3
   },
   "file_extension": ".py",
   "mimetype": "text/x-python",
   "name": "python",
   "nbconvert_exporter": "python",
   "pygments_lexer": "ipython3",
   "version": "3.8.13"
  },
  "orig_nbformat": 4
 },
 "nbformat": 4,
 "nbformat_minor": 2
}
