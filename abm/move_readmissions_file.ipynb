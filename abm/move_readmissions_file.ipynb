{
 "cells": [
  {
   "cell_type": "code",
   "execution_count": 3,
   "metadata": {},
   "outputs": [],
   "source": [
    "from scipy.stats import truncnorm\n",
    "import pandas as pd\n",
    "import numpy as np\n",
    "import itertools\n",
    "import datetime\n",
    "import tqdm\n",
    "import sys\n",
    "import os\n",
    "\n",
    "import matplotlib.pyplot as plt\n",
    "\n",
    "def flatten_list(list_array):\n",
    "    return list(itertools.chain(*list_array))\n",
    "\n",
    "sys.path.insert(0, \"../\")\n",
    "sys.path.insert(0,\"../pompjax/pompjax/\")\n",
    "\n",
    "from global_config import config\n",
    "\n",
    "results_dir           = config.get_property('results_dir')\n",
    "results2_dir          = config.get_property('results2_dir')\n",
    "data_dir              = config.get_property('data_dir')\n",
    "paper_dir             = config.get_property('paper_dir')\n",
    "data_db_dir           = config.get_property('data_db_dir')\n",
    "\n",
    "feb_hosp_records_path = os.path.join(data_db_dir, 'long_files_8_25_2021')\n",
    "path_to_save          = os.path.join(results_dir, \"real_testing\", \"community\")\n",
    "\n",
    "COLOR_LIST1           = [\"#F8AFA8\", \"#FDDDA0\", \"#F5CDB4\", \"#74A089\"]\n",
    "\n",
    "from utils_local.misc import amro2title, amro2cute\n",
    "import matplotlib.ticker as mtick\n"
   ]
  },
  {
   "cell_type": "code",
   "execution_count": 4,
   "metadata": {},
   "outputs": [],
   "source": [
    "def empirical_prevalence(amro, path_to_prev=\"../data/amro_prevalence.csv\"):\n",
    "    amro_prev_df = pd.read_csv(path_to_prev)\n",
    "    gammas       = amro_prev_df[amro_prev_df.amro==amro][[\"prevalence_mean1\", \"prevalence_mean2\", \"prevalence_mean3\"]].values / 100\n",
    "    return np.squeeze(gammas)"
   ]
  },
  {
   "cell_type": "code",
   "execution_count": 16,
   "metadata": {},
   "outputs": [
    {
     "data": {
      "text/plain": [
       "['.DS_Store',\n",
       " 'readmissions',\n",
       " '001convergence.png',\n",
       " '000convergence.png',\n",
       " '000sim_post.npz',\n",
       " '001posterior.npz',\n",
       " '000posterior.npz']"
      ]
     },
     "execution_count": 16,
     "metadata": {},
     "output_type": "execute_result"
    }
   ],
   "source": [
    "amro_search  = ['ESCHERICHIA COLI', 'KLEBSIELLA PNEUMONIAE',  'PSEUDOMONAS AERUGINOSA',\n",
    "                'METHICILLIN-SUSCEPTIBLE STAPHYLOCOCCUS AUREUS', 'METHICILLIN-RESISTANT STAPHYLOCOCCUS AUREUS',\n",
    "                'ENTEROCOCCUS FAECALIS', 'ENTEROCOCCUS FAECIUM']\n",
    "\n",
    "\n",
    "amro      = amro_search[0]\n",
    "idx_gamma = 0\n",
    "\n",
    "\n",
    "path_to_save    = os.path.join(results2_dir, \"amro_inferences\", \"abm\", f\"{amro2cute(amro)}\")\n",
    "path_to_samples = os.path.join(path_to_save, \"infer_building\", \"individual_observation\",\n",
    "                                    f\"prevalence{idx_gamma}\")\n"
   ]
  },
  {
   "cell_type": "code",
   "execution_count": 27,
   "metadata": {},
   "outputs": [
    {
     "name": "stdout",
     "output_type": "stream",
     "text": [
      "Running IF-EAKF for amro:  E. coli\n",
      "Running IF-EAKF for amro:  K. pneumoniae\n",
      "Running IF-EAKF for amro:  P. aeruginosa\n",
      "Running IF-EAKF for amro:  MSSA\n",
      "Running IF-EAKF for amro:  MRSA\n",
      "Running IF-EAKF for amro:  E. faecalis\n",
      "Running IF-EAKF for amro:  E. faecium\n"
     ]
    }
   ],
   "source": [
    "import shutil\n",
    "\n",
    "amro_search  = ['ESCHERICHIA COLI', 'KLEBSIELLA PNEUMONIAE',  'PSEUDOMONAS AERUGINOSA',\n",
    "                'METHICILLIN-SUSCEPTIBLE STAPHYLOCOCCUS AUREUS', 'METHICILLIN-RESISTANT STAPHYLOCOCCUS AUREUS',\n",
    "                'ENTEROCOCCUS FAECALIS', 'ENTEROCOCCUS FAECIUM']\n",
    "\n",
    "for amro in amro_search:\n",
    "    print(\"Running IF-EAKF for amro: \", amro2title(amro))\n",
    "    path_to_save = os.path.join(results2_dir, \"amro_inferences\", \"abm\", f\"{amro2cute(amro)}\")\n",
    "    os.makedirs(os.path.join(results2_dir, \"amro_inferences\", \"abm\"), exist_ok=True)\n",
    "\n",
    "    gammas        = empirical_prevalence(amro, path_to_prev=\"../data/amro_prevalence.csv\")\n",
    "\n",
    "\n",
    "    for idx_gamma, gamma in enumerate(gammas):\n",
    "\n",
    "\n",
    "        # original model\n",
    "        path_to_original_model = os.path.join(path_to_save, \"infer_building\",\n",
    "                                    \"individual_observation\", f\"prevalence{idx_gamma}\")\n",
    "\n",
    "        # model that keep tracks of people status in the community\n",
    "        path_to_readmission_model = os.path.join(path_to_save, \"infer_building\",\n",
    "                                    \"individual_observation\", f\"prevalence{idx_gamma}\", \"readmissions\")\n",
    "\n"
   ]
  },
  {
   "cell_type": "code",
   "execution_count": 28,
   "metadata": {},
   "outputs": [
    {
     "data": {
      "text/plain": [
       "['readmissions', '000convergence.png', '000sim_post.npz', '000posterior.npz']"
      ]
     },
     "execution_count": 28,
     "metadata": {},
     "output_type": "execute_result"
    }
   ],
   "source": [
    "os.listdir(path_to_original_model)"
   ]
  },
  {
   "cell_type": "code",
   "execution_count": 29,
   "metadata": {},
   "outputs": [
    {
     "data": {
      "text/plain": [
       "['001convergence.png', '001posterior.npz']"
      ]
     },
     "execution_count": 29,
     "metadata": {},
     "output_type": "execute_result"
    }
   ],
   "source": [
    "os.listdir(path_to_readmission_model)"
   ]
  },
  {
   "cell_type": "code",
   "execution_count": null,
   "metadata": {},
   "outputs": [],
   "source": []
  }
 ],
 "metadata": {
  "kernelspec": {
   "display_name": "Python 3",
   "language": "python",
   "name": "python3"
  },
  "language_info": {
   "codemirror_mode": {
    "name": "ipython",
    "version": 3
   },
   "file_extension": ".py",
   "mimetype": "text/x-python",
   "name": "python",
   "nbconvert_exporter": "python",
   "pygments_lexer": "ipython3",
   "version": "3.8.13"
  }
 },
 "nbformat": 4,
 "nbformat_minor": 2
}
