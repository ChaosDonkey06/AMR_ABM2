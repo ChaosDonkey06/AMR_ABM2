{
 "cells": [
  {
   "cell_type": "code",
   "execution_count": 1,
   "metadata": {},
   "outputs": [],
   "source": [
    "from scipy.stats import truncnorm\n",
    "import pandas as pd\n",
    "import numpy as onp\n",
    "import itertools\n",
    "import datetime\n",
    "import tqdm\n",
    "import sys\n",
    "import os\n",
    "\n",
    "import jax.numpy as np\n",
    "\n",
    "def flatten_list(list_array):\n",
    "    return list(itertools.chain(*list_array))\n",
    "\n",
    "sys.path.insert(0,\"../\")\n",
    "from global_config import config\n",
    "\n",
    "results_dir           = config.get_property('results_dir')\n",
    "data_dir              = config.get_property('data_dir')\n",
    "paper_dir             = config.get_property('paper_dir')\n",
    "data_db_dir           = config.get_property('data_db_dir')\n",
    "feb_hosp_records_path = os.path.join(data_db_dir, 'long_files_8_25_2021')\n",
    "path_to_save          = os.path.join(results_dir, \"real_testing\", \"community\")\n"
   ]
  },
  {
   "cell_type": "code",
   "execution_count": 2,
   "metadata": {},
   "outputs": [],
   "source": [
    "class Patient:\n",
    "    susceptible = 0\n",
    "    colonized   = 1\n"
   ]
  },
  {
   "cell_type": "code",
   "execution_count": 3,
   "metadata": {},
   "outputs": [],
   "source": [
    "dates_simulation = pd.date_range(start=\"2020-02-01\", end=\"2021-02-28\", freq=\"D\")\n",
    "\n",
    "movement_df               = pd.read_csv(os.path.join(data_db_dir, \"long_files_8_25_2021\", 'patient_movement_2022-Nov.csv'), parse_dates=['date']).drop_duplicates(subset=[\"date\", \"mrn\"], keep=\"first\")\n",
    "movement_df[\"ward_total\"] = movement_df.apply(lambda x: x[\"ward\"]+\"-\"+x[\"building\"]+\"-\"+x[\"place\"], axis=1)\n",
    "movement_df               = movement_df[movement_df[\"date\"].isin(dates_simulation)]\n",
    "\n",
    "mrd2id  = {mrn: id for id, mrn in enumerate(movement_df.mrn.unique())}\n",
    "ward2id = {ward_name: id for id, ward_name in enumerate(movement_df.ward_total.unique())}\n",
    "\n",
    "movement_df[\"mrn_id\"]  = movement_df.mrn.map(mrd2id)\n",
    "movement_df[\"ward_id\"] = movement_df.ward_total.map(ward2id)\n",
    "\n",
    "ward_size_df                 = movement_df.reset_index()\n",
    "ward_size_df[\"ward_id\"]      = ward_size_df[\"ward_total\"].apply(lambda x: ward2id[x])\n",
    "ward_size_df[\"num_patients\"] = 1\n",
    "ward_size_df                 = ward_size_df.groupby([\"date\", \"ward\", \"ward_id\"]).sum()[[\"num_patients\"]].reset_index().drop(columns=[\"date\"])\n",
    "ward_size_df                 = ward_size_df.groupby([\"ward\", \"ward_id\"]).mean().reset_index().sort_values(by=\"num_patients\")\n",
    "ward2size                    = {r.ward_id: r.num_patients for idx_r, r in ward_size_df.iterrows()}\n"
   ]
  },
  {
   "cell_type": "code",
   "execution_count": null,
   "metadata": {},
   "outputs": [],
   "source": [
    "from jax import random\n",
    "\n",
    "Np = 10000\n",
    "\n",
    "key = random.PRNGKey(0)\n",
    "\n"
   ]
  },
  {
   "cell_type": "code",
   "execution_count": null,
   "metadata": {},
   "outputs": [],
   "source": [
    "random.uniform(key=key, shape=(Np, ))"
   ]
  },
  {
   "cell_type": "code",
   "execution_count": null,
   "metadata": {},
   "outputs": [],
   "source": []
  },
  {
   "cell_type": "code",
   "execution_count": null,
   "metadata": {},
   "outputs": [],
   "source": [
    "from jax import random\n",
    "\n",
    "\n",
    "def amr_abm(key, agents_state, movement, ward2size, parameters):\n",
    "    \"\"\" Agent based model tracking colonized and susceptible patients with pre-defined movement patterns.\n",
    "\n",
    "    Args:\n",
    "        agents_state : agent state. {0: Patient.susceptible, 1: Patient.colonized}  Size: (n_patients)\n",
    "        movement     : pd.Dataframe with patient locations and culture information.\n",
    "        parameters   : dictionary of parameters, contains importation rate (gamma), nosocomial transmission rate (beta),\n",
    "                        effective sensitivity (ro), and decolonization rate (alpha)\n",
    "    \"\"\"\n",
    "\n",
    "    γ   = parameters[\"gamma\"] # importation rate.\n",
    "    β   = parameters[\"beta\"]  # nosocomial transmission rate.\n",
    "    ρ   = parameters[\"ro\"]    # effective sensitivity.\n",
    "    α   = parameters[\"alpha\"] # decolonization rate\n",
    "    Nw  = parameters[\"Nw\"]    # number of wards\n",
    "    Np  = parameters[\"Np\"]    # number of patients\n",
    "\n",
    "    # Decolonize patients according to. P(C2S) = α\n",
    "    agents_state = np.maximum(agents_state - agents_state * (random.uniform(key=key, shape=(Np, )) < α), 0)\n",
    "\n",
    "    # Import patients.\n",
    "    new_patients = movement[movement[\"first_day\"]==1][\"mrn_id\"].values\n",
    "    if new_patients.shape[0] > 0:\n",
    "        # P(S2C) = \\gamma - Probability of colonization given importation.\n",
    "        agents_state.at[new_patients].set(Patient.colonized * (random.uniform(key=key, shape=(new_patients.shape[0], )) < γ))\n",
    "\n",
    "    # compute force of infection for each ward.\n",
    "    for i, ward_id in enumerate(movement[\"ward_id\"].unique()):\n",
    "\n",
    "        patients_ward = movement[movement[\"ward_id\"]==ward_id][\"mrn_id\"].values\n",
    "\n",
    "        # λ_i = β  * C / N  - Force of infection for ward i.\n",
    "        λ_i = β * onp.sum(agents_state[patients_ward]==Patient.colonized) / ward2size[ward_id]\n",
    "\n",
    "        # P(C2S)_i = λ_i, we add the state but if already colonized the state would be 2 so we clip it to 1.\n",
    "        agents_state.at[patients_ward].set(Patient.colonized * onp.minimum(agents_state[patients_ward] + random.uniform(key=key, shape=(patients_ward.shape[0], )) < λ_i, 1))\n",
    "\n",
    "    return agents_state\n"
   ]
  },
  {
   "cell_type": "code",
   "execution_count": null,
   "metadata": {},
   "outputs": [],
   "source": [
    "from jax import jit, vmap\n",
    "\n",
    "dates_simulation = pd.date_range(start=\"2020-02-01\", end=\"2021-02-28\", freq=\"D\")\n",
    "\n",
    "parameters          = {}\n",
    "parameters[\"gamma\"] = 5/100\n",
    "parameters[\"beta\"]  = 0.02\n",
    "parameters[\"ro\"]    = 6/100\n",
    "parameters[\"alpha\"] = 1/120\n",
    "parameters[\"Nw\"]    = len(ward2id)\n",
    "parameters[\"Np\"]    = movement_df.mrn_id.unique().shape[0]\n",
    "\n",
    "agents_state = np.zeros(parameters[\"Np\"])\n",
    "colonized    = []\n",
    "\n",
    "key   = random.PRNGKey(0)\n",
    "model = lambda pstatus, movement: amr_abm(key, pstatus, movement, ward2size, parameters)\n"
   ]
  },
  {
   "cell_type": "code",
   "execution_count": null,
   "metadata": {},
   "outputs": [],
   "source": [
    "date         = dates_simulation[0]\n",
    "movement     = movement_df[movement_df[\"date\"]==date]\n",
    "agents_state = model(agents_state, movement)"
   ]
  },
  {
   "cell_type": "code",
   "execution_count": null,
   "metadata": {},
   "outputs": [],
   "source": [
    "from tqdm import tqdm\n",
    "for date in tqdm(dates_simulation):\n",
    "\n",
    "    movement     = movement_df[movement_df[\"date\"]==date]\n",
    "    agents_state = model(agents_state, movement)\n",
    "    colonized.append(np.sum(agents_state==Patient.colonized))\n"
   ]
  },
  {
   "cell_type": "code",
   "execution_count": null,
   "metadata": {},
   "outputs": [],
   "source": [
    "from utils.plot_utils import *\n",
    "\n",
    "fig, ax = plt.subplots(figsize=(10, 5))\n",
    "ax.plot(dates_simulation, colonized)\n",
    "format_axis(ax)\n"
   ]
  },
  {
   "cell_type": "code",
   "execution_count": null,
   "metadata": {},
   "outputs": [],
   "source": [
    "model_ensemble = vmap(model, in_axes=(1, None))\n",
    "agents_state   = onp.zeros((movement_df.mrn_id.unique().shape[0], 100))\n",
    "\n",
    "for date in dates_simulation:\n",
    "    movement     = movement_df[movement_df[\"date\"]==date]\n",
    "    agents_state = model_ensemble(agents_state, movement)\n"
   ]
  },
  {
   "cell_type": "code",
   "execution_count": null,
   "metadata": {},
   "outputs": [],
   "source": []
  },
  {
   "cell_type": "code",
   "execution_count": null,
   "metadata": {},
   "outputs": [],
   "source": []
  }
 ],
 "metadata": {
  "kernelspec": {
   "display_name": "pompjax",
   "language": "python",
   "name": "python3"
  },
  "language_info": {
   "codemirror_mode": {
    "name": "ipython",
    "version": 3
   },
   "file_extension": ".py",
   "mimetype": "text/x-python",
   "name": "python",
   "nbconvert_exporter": "python",
   "pygments_lexer": "ipython3",
   "version": "3.8.13"
  },
  "orig_nbformat": 4,
  "vscode": {
   "interpreter": {
    "hash": "e23b8103492689b0d9748b47018d3861a561878402e3a1e7a565e9dcb2ea3867"
   }
  }
 },
 "nbformat": 4,
 "nbformat_minor": 2
}
