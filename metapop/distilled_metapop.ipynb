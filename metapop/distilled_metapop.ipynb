{
 "cells": [
  {
   "cell_type": "code",
   "execution_count": 114,
   "metadata": {},
   "outputs": [],
   "source": [
    "import pandas as pd\n",
    "import numpy as np\n",
    "\n",
    "\n",
    "def binomial_transition(n, prob):\n",
    "    return np.random.binomial(n, prob)\n",
    "\n",
    "def poisson_transition(n, rate):\n",
    "    return np.random.poisson(np.nan_to_num(n * rate))"
   ]
  },
  {
   "cell_type": "code",
   "execution_count": 213,
   "metadata": {},
   "outputs": [],
   "source": [
    "\n",
    "def check_state_space(x, pop=None):\n",
    "    return np.clip(x, 0, pop)\n",
    "\n",
    "def f(t, x, gamma, beta, delta, Nmean, N, A, D, M):\n",
    "    C = x[0, :, :]\n",
    "    S = np.clip(N - C,0,N)\n",
    "\n",
    "    λ = beta * C / Nmean # force of infection\n",
    "\n",
    "    # moving out and in colonized\n",
    "    Cout  = binomial_transition(list(np.sum(M, axis=1, keepdims=True)), np.clip(np.nan_to_num(C/N), 0, 1))\n",
    "    Cin   = M.T @ np.clip(np.nan_to_num(C/N), 0, 1)\n",
    " \n",
    "    a2c   = binomial_transition(list(A), gamma)                                  # people admitted colonized.\n",
    "    c2out = binomial_transition(list(D), np.clip(np.nan_to_num(C/N), 0, 1))  # discharged colonized\n",
    "\n",
    "    s2c  = poisson_transition(S, λ) # new colonized\n",
    "    c2s  = poisson_transition(C, delta) # decolonizations\n",
    "\n",
    "    C    = C + a2c - c2out + s2c + c2s + Cin - Cout\n",
    "    C    = np.clip(C, 0, N)\n",
    "\n",
    "    return check_state_space(np.array([C, a2c, s2c]))\n",
    "\n",
    "def g(t, x, N, rho, tests, model_settings):\n",
    "    \"\"\" Observational model\n",
    "        Args:\n",
    "            t (int):      Time\n",
    "            x (np.array): State space\n",
    "            rho (float):  Observation probability\n",
    "        Returns:\n",
    "            y (np.array): Observed carriers ~ Binomial(C, rho)\n",
    "    \"\"\"\n",
    "\n",
    "    m       = model_settings[\"m\"]\n",
    "    num_pop = model_settings[\"num_pop\"]\n",
    "\n",
    "    C       = x[0, :, :]\n",
    "    N       = np.reshape([N]*m,(m,num_pop)).T\n",
    "    tests   = np.reshape(list(tests)*m,(m,len(tests))).T\n",
    "\n",
    "    with np.errstate(divide='ignore', invalid='ignore'):\n",
    "        observed_colonized = np.random.binomial(tests.astype('int'), rho * np.nan_to_num(C/N))\n",
    "\n",
    "    return observed_colonized\n",
    "\n",
    "\n",
    "def f0(N0, c0, model_settings):\n",
    "\n",
    "    m       = model_settings[\"m\"]\n",
    "    num_pop = model_settings[\"num_pop\"]\n",
    "\n",
    "    N0   = np.array([N0]) * np.ones((num_pop, m))\n",
    "    C0   = c0 * N0\n",
    "\n",
    "    AC   = np.zeros((num_pop, m))\n",
    "    newC = np.zeros((num_pop, m))\n",
    "\n",
    "    return np.array([C0, AC, newC])"
   ]
  },
  {
   "cell_type": "code",
   "execution_count": null,
   "metadata": {},
   "outputs": [],
   "source": [
    "# parameters\n",
    "γ = 0.05 * np.ones((model_settings[\"num_pop\"], model_settings[\"m\"]))\n",
    "β = 0.1  * np.ones((model_settings[\"num_pop\"], model_settings[\"m\"]))\n",
    "δ = 1/120"
   ]
  },
  {
   "attachments": {},
   "cell_type": "markdown",
   "metadata": {},
   "source": [
    "# the movement model\n",
    "\n",
    "M is a matrix of [np, np] and C and N vectors of size [np, m].\n",
    "\n",
    "Mij = individuals moving for i to j.\n",
    "\n",
    "1. Colonized ppl moving outside unit $i$. The people moving outside of unit i are $\\sum_j M_{ij}$.\n",
    "\n",
    "    $C_{i}^{out}= \\sum_j M_{ij} \\frac{C_i}{N_i}$\n",
    "\n",
    "    In code it will be\n",
    "    ```\n",
    "    Cout_i = np.sum(M[i, :]) * C[i, :]/N[i, :]\n",
    "    ```\n",
    "    So for putting all the people in a matix it will be\n",
    "    ```\n",
    "    Cout = np.sum(M, axis=1, keepdims=True) * C / N\n",
    "    ```\n",
    "2. Colonized people moving into unit $i$.\n",
    "   For a 3 metapop model, the people moving into population $i=1$ will be $M_{21}, M_{31}$\n",
    "   So the people moving inside colonized are $C_1^{out}=M_{21} * C_2/N_2$ and $C_2^{out}=M_{31} * C_3/N_3$.\n",
    "    As a matrix multiplication this is $M_{:,1}^T \\times C/N$, where $M_{:,1}^T=[M_{11}, M_{21}, M_{31}]$ and $C=[C_1, C_2, C_3]^T$.\n",
    "\n",
    "   The total people moving inside colonized are $C_i^{out}=\\sum_j M_{ji} * C_j/N_j$.\n",
    "\n",
    "   So, in matrix multiplication (I think - not sure) the people moving into all population can be writted as below, gotta be carefull to make the diagonal in M zero!!! or will add people in the same ward.\n",
    "\n",
    "   $$C_{in} = M^T \\times C$$"
   ]
  },
  {
   "cell_type": "code",
   "execution_count": 125,
   "metadata": {},
   "outputs": [],
   "source": []
  },
  {
   "cell_type": "code",
   "execution_count": 127,
   "metadata": {},
   "outputs": [],
   "source": []
  },
  {
   "cell_type": "code",
   "execution_count": 131,
   "metadata": {},
   "outputs": [],
   "source": []
  },
  {
   "cell_type": "code",
   "execution_count": null,
   "metadata": {},
   "outputs": [],
   "source": []
  }
 ],
 "metadata": {
  "kernelspec": {
   "display_name": "Python (POMPJAX)",
   "language": "python",
   "name": "pompjax"
  },
  "language_info": {
   "codemirror_mode": {
    "name": "ipython",
    "version": 3
   },
   "file_extension": ".py",
   "mimetype": "text/x-python",
   "name": "python",
   "nbconvert_exporter": "python",
   "pygments_lexer": "ipython3",
   "version": "3.8.13"
  },
  "orig_nbformat": 4
 },
 "nbformat": 4,
 "nbformat_minor": 2
}
