{
 "cells": [
  {
   "cell_type": "code",
   "execution_count": 1,
   "metadata": {},
   "outputs": [],
   "source": [
    "from scipy.stats import truncnorm\n",
    "import pandas as pd\n",
    "import numpy as onp\n",
    "import itertools\n",
    "import datetime\n",
    "import tqdm\n",
    "import sys\n",
    "import os\n",
    "\n",
    "import jax.numpy as np\n",
    "\n",
    "def flatten_list(list_array):\n",
    "    return list(itertools.chain(*list_array))\n",
    "\n",
    "sys.path.insert(0,\"../\")\n",
    "from global_config import config\n",
    "\n",
    "results_dir           = config.get_property('results_dir')\n",
    "data_dir              = config.get_property('data_dir')\n",
    "paper_dir             = config.get_property('paper_dir')\n",
    "data_db_dir           = config.get_property('data_db_dir')\n",
    "feb_hosp_records_path = os.path.join(data_db_dir, 'long_files_8_25_2021')\n",
    "path_to_save          = os.path.join(results_dir, \"real_testing\", \"community\")\n"
   ]
  },
  {
   "cell_type": "code",
   "execution_count": 2,
   "metadata": {},
   "outputs": [],
   "source": [
    "class Patient:\n",
    "    susceptible = 0\n",
    "    colonized   = 1\n"
   ]
  },
  {
   "cell_type": "code",
   "execution_count": 3,
   "metadata": {},
   "outputs": [
    {
     "name": "stderr",
     "output_type": "stream",
     "text": [
      "/var/folders/7p/jp6xqkvn5wb6ddl1fn0bhs980000gn/T/ipykernel_90878/2813536434.py:16: FutureWarning: The default value of numeric_only in DataFrameGroupBy.sum is deprecated. In a future version, numeric_only will default to False. Either specify numeric_only or select only columns which should be valid for the function.\n",
      "  ward_size_df                 = ward_size_df.groupby([\"date\", \"ward\", \"ward_id\"]).sum()[[\"num_patients\"]].reset_index().drop(columns=[\"date\"])\n"
     ]
    }
   ],
   "source": [
    "dates_simulation = pd.date_range(start=\"2020-02-01\", end=\"2021-02-28\", freq=\"D\")\n",
    "\n",
    "movement_df               = pd.read_csv(os.path.join(data_db_dir, \"long_files_8_25_2021\", 'patient_movement_2022-Nov.csv'), parse_dates=['date']).drop_duplicates(subset=[\"date\", \"mrn\"], keep=\"first\")\n",
    "movement_df[\"ward_total\"] = movement_df.apply(lambda x: x[\"ward\"]+\"-\"+x[\"building\"]+\"-\"+x[\"place\"], axis=1)\n",
    "movement_df               = movement_df[movement_df[\"date\"].isin(dates_simulation)]\n",
    "\n",
    "mrd2id  = {mrn: id for id, mrn in enumerate(movement_df.mrn.unique())}\n",
    "ward2id = {ward_name: id for id, ward_name in enumerate(movement_df.ward_total.unique())}\n",
    "\n",
    "movement_df[\"mrn_id\"]  = movement_df.mrn.map(mrd2id)\n",
    "movement_df[\"ward_id\"] = movement_df.ward_total.map(ward2id)\n",
    "\n",
    "ward_size_df                 = movement_df.reset_index()\n",
    "ward_size_df[\"ward_id\"]      = ward_size_df[\"ward_total\"].apply(lambda x: ward2id[x])\n",
    "ward_size_df[\"num_patients\"] = 1\n",
    "ward_size_df                 = ward_size_df.groupby([\"date\", \"ward\", \"ward_id\"]).sum()[[\"num_patients\"]].reset_index().drop(columns=[\"date\"])\n",
    "ward_size_df                 = ward_size_df.groupby([\"ward\", \"ward_id\"]).mean().reset_index().sort_values(by=\"num_patients\")\n",
    "ward2size                    = {r.ward_id: r.num_patients for idx_r, r in ward_size_df.iterrows()}\n"
   ]
  },
  {
   "cell_type": "code",
   "execution_count": 4,
   "metadata": {},
   "outputs": [],
   "source": [
    "from jax import random\n",
    "\n",
    "Np  = 10000\n",
    "key = random.PRNGKey(0)\n",
    "\n"
   ]
  },
  {
   "cell_type": "code",
   "execution_count": 47,
   "metadata": {},
   "outputs": [],
   "source": [
    "from jax import random\n",
    "\n",
    "@jit\n",
    "def decolonize(agents_state, alpha, Np):\n",
    "    return agents_state - agents_state * (random.uniform(key=key, shape=(Np, )) < alpha)\n",
    "\n",
    "def amr_abm(agents_state, movement, ward2size, parameters):\n",
    "    \"\"\" Agent based model tracking colonized and susceptible patients with pre-defined movement patterns.\n",
    "\n",
    "    Args:\n",
    "        agents_state : agent state. {0: Patient.susceptible, 1: Patient.colonized}  Size: (n_patients)\n",
    "        movement     : pd.Dataframe with patient locations and culture information.\n",
    "        parameters   : dictionary of parameters, contains importation rate (gamma), nosocomial transmission rate (beta),\n",
    "                        effective sensitivity (ro), and decolonization rate (alpha)\n",
    "    \"\"\"\n",
    "\n",
    "    γ   = parameters[\"gamma\"] # importation rate.\n",
    "    β   = parameters[\"beta\"]  # nosocomial transmission rate.\n",
    "    ρ   = parameters[\"ro\"]    # effective sensitivity.\n",
    "    α   = parameters[\"alpha\"] # decolonization rate\n",
    "    Nw  = parameters[\"Nw\"]    # number of wards\n",
    "    Np  = parameters[\"Np\"]    # number of patients\n",
    "\n",
    "    # Decolonize patients according to. P(C2S) = α\n",
    "    #agents_state.at[:].set(np.maximum(agents_state - agents_state * (random.uniform(key=key, shape=(Np, )) < α), 0))\n",
    "    #agents_state = agents_state - agents_state * (onp.random.uniform(size=(Np, )) < α)\n",
    "    agents_state = np.add(agents_state, - agents_state * (onp.random.uniform(size=(Np, )) < α))\n",
    "    agents_state = np.clip(agents_state, 0, 1)\n",
    "\n",
    "    # import patients.\n",
    "    new_patients = movement[movement[\"first_day\"]==1][\"mrn_id\"].values\n",
    "    if new_patients.shape[0] > 0:\n",
    "        # P(S2C) = \\gamma - Probability of colonization given importation.\n",
    "        #agents_state[new_patients] = Patient.colonized * (random.uniform(key=key, shape=(new_patients.shape[0], )) < γ)\n",
    "        agents_state[new_patients] = Patient.colonized * (onp.random.uniform(size=(new_patients.shape[0], )) < γ)\n",
    "\n",
    "    # compute force of infection for each ward.\n",
    "    for i, ward_id in enumerate(movement[\"ward_id\"].unique()):\n",
    "\n",
    "        patients_ward = movement[movement[\"ward_id\"]==ward_id][\"mrn_id\"].values\n",
    "\n",
    "        # λ_i = β  * C / N  - Force of infection for ward i.\n",
    "        λ_i = β * np.sum(agents_state[patients_ward]==Patient.colonized) / ward2size[ward_id]\n",
    "\n",
    "        # P(C2S)_i = λ_i, we add the state but if already colonized the state would be 2 so we clip it to 1.\n",
    "        #agents_state[patients_ward] = Patient.colonized * np.minimum(agents_state[patients_ward] + random.uniform(key=key, shape=(patients_ward.shape[0], )) < λ_i, 1)\n",
    "        agents_state.at[patients_ward].set(np.add(agents_state[patients_ward],  Patient.colonized * (onp.random.uniform(size=(patients_ward.shape[0], )) < λ_i)))\n",
    "        agents_state.at[patients_ward].set(np.clip(agents_state[patients_ward], 0, 1))\n",
    "\n",
    "    return agents_state\n"
   ]
  },
  {
   "cell_type": "code",
   "execution_count": 46,
   "metadata": {},
   "outputs": [
    {
     "name": "stderr",
     "output_type": "stream",
     "text": [
      "  0%|          | 0/394 [00:00<?, ?it/s]\n"
     ]
    },
    {
     "ename": "AttributeError",
     "evalue": "'numpy.ndarray' object has no attribute 'at'",
     "output_type": "error",
     "traceback": [
      "\u001b[0;31m---------------------------------------------------------------------------\u001b[0m",
      "\u001b[0;31mAttributeError\u001b[0m                            Traceback (most recent call last)",
      "Cell \u001b[0;32mIn [46], line 25\u001b[0m\n\u001b[1;32m     23\u001b[0m \u001b[39mfor\u001b[39;00m date \u001b[39min\u001b[39;00m tqdm(dates_simulation):\n\u001b[1;32m     24\u001b[0m     movement     \u001b[39m=\u001b[39m movement_df[movement_df[\u001b[39m\"\u001b[39m\u001b[39mdate\u001b[39m\u001b[39m\"\u001b[39m]\u001b[39m==\u001b[39mdate]\n\u001b[0;32m---> 25\u001b[0m     agents_state \u001b[39m=\u001b[39m model(agents_state, movement)\n\u001b[1;32m     26\u001b[0m     colonized\u001b[39m.\u001b[39mappend(np\u001b[39m.\u001b[39msum(agents_state\u001b[39m==\u001b[39mPatient\u001b[39m.\u001b[39mcolonized))\n\u001b[1;32m     28\u001b[0m \u001b[39mfrom\u001b[39;00m \u001b[39mutils\u001b[39;00m\u001b[39m.\u001b[39;00m\u001b[39mplot_utils\u001b[39;00m \u001b[39mimport\u001b[39;00m \u001b[39m*\u001b[39m\n",
      "Cell \u001b[0;32mIn [46], line 17\u001b[0m, in \u001b[0;36m<lambda>\u001b[0;34m(pstatus, movement)\u001b[0m\n\u001b[1;32m     14\u001b[0m colonized    \u001b[39m=\u001b[39m []\n\u001b[1;32m     16\u001b[0m key   \u001b[39m=\u001b[39m random\u001b[39m.\u001b[39mPRNGKey(\u001b[39m0\u001b[39m)\n\u001b[0;32m---> 17\u001b[0m model \u001b[39m=\u001b[39m \u001b[39mlambda\u001b[39;00m pstatus, movement: amr_abm(pstatus, movement, ward2size, parameters)\n\u001b[1;32m     19\u001b[0m \u001b[39mfrom\u001b[39;00m \u001b[39mtqdm\u001b[39;00m \u001b[39mimport\u001b[39;00m tqdm\n\u001b[1;32m     20\u001b[0m \u001b[39mimport\u001b[39;00m \u001b[39mnumpy\u001b[39;00m \u001b[39mas\u001b[39;00m \u001b[39monp\u001b[39;00m\n",
      "Cell \u001b[0;32mIn [42], line 47\u001b[0m, in \u001b[0;36mamr_abm\u001b[0;34m(agents_state, movement, ward2size, parameters)\u001b[0m\n\u001b[1;32m     43\u001b[0m     λ_i \u001b[39m=\u001b[39m β \u001b[39m*\u001b[39m np\u001b[39m.\u001b[39msum(agents_state[patients_ward]\u001b[39m==\u001b[39mPatient\u001b[39m.\u001b[39mcolonized) \u001b[39m/\u001b[39m ward2size[ward_id]\n\u001b[1;32m     45\u001b[0m     \u001b[39m# P(C2S)_i = λ_i, we add the state but if already colonized the state would be 2 so we clip it to 1.\u001b[39;00m\n\u001b[1;32m     46\u001b[0m     \u001b[39m#agents_state[patients_ward] = Patient.colonized * np.minimum(agents_state[patients_ward] + random.uniform(key=key, shape=(patients_ward.shape[0], )) < λ_i, 1)\u001b[39;00m\n\u001b[0;32m---> 47\u001b[0m     agents_state\u001b[39m.\u001b[39;49mat[patients_ward]\u001b[39m.\u001b[39mset(np\u001b[39m.\u001b[39madd(agents_state[patients_ward],  Patient\u001b[39m.\u001b[39mcolonized \u001b[39m*\u001b[39m (onp\u001b[39m.\u001b[39mrandom\u001b[39m.\u001b[39muniform(size\u001b[39m=\u001b[39m(patients_ward\u001b[39m.\u001b[39mshape[\u001b[39m0\u001b[39m], )) \u001b[39m<\u001b[39m λ_i)))\n\u001b[1;32m     48\u001b[0m     agents_state\u001b[39m.\u001b[39mat[patients_ward]\u001b[39m.\u001b[39mset(np\u001b[39m.\u001b[39mclip(agents_state[patients_ward], \u001b[39m0\u001b[39m, \u001b[39m1\u001b[39m))\n\u001b[1;32m     50\u001b[0m \u001b[39mreturn\u001b[39;00m agents_state\n",
      "\u001b[0;31mAttributeError\u001b[0m: 'numpy.ndarray' object has no attribute 'at'"
     ]
    }
   ],
   "source": [
    "from jax import jit, vmap\n",
    "\n",
    "dates_simulation = pd.date_range(start=\"2020-02-01\", end=\"2021-02-28\", freq=\"D\")\n",
    "\n",
    "parameters          = {}\n",
    "parameters[\"gamma\"] = 15/100\n",
    "parameters[\"beta\"]  = 0.02\n",
    "parameters[\"ro\"]    = 6/100\n",
    "parameters[\"alpha\"] = 1/120\n",
    "parameters[\"Nw\"]    = len(ward2id)\n",
    "parameters[\"Np\"]    = movement_df.mrn_id.unique().shape[0]\n",
    "\n",
    "colonized    = []\n",
    "\n",
    "key   = random.PRNGKey(0)\n",
    "model = lambda pstatus, movement: amr_abm(pstatus, movement, ward2size, parameters)\n",
    "\n",
    "from tqdm import tqdm\n",
    "import numpy as onp\n",
    "\n",
    "agents_state = np.zeros(parameters[\"Np\"])\n",
    "\n",
    "for date in tqdm(dates_simulation):\n",
    "    movement     = movement_df[movement_df[\"date\"]==date]\n",
    "    agents_state = model(agents_state, movement)\n",
    "    colonized.append(np.sum(agents_state==Patient.colonized))\n",
    "\n",
    "from utils.plot_utils import *\n",
    "\n",
    "fig, ax = plt.subplots(figsize=(10, 5))\n",
    "ax.plot(dates_simulation, colonized)\n",
    "format_axis(ax)\n"
   ]
  },
  {
   "cell_type": "code",
   "execution_count": 44,
   "metadata": {},
   "outputs": [
    {
     "name": "stdout",
     "output_type": "stream",
     "text": [
      "0\n"
     ]
    },
    {
     "ename": "TracerArrayConversionError",
     "evalue": "The numpy.ndarray conversion method __array__() was called on the JAX Tracer object Traced<ShapedArray(float32[103510])>with<BatchTrace(level=1/0)> with\n  val = array([[0., 0., 0., ..., 0., 0., 0.],\n       [0., 0., 0., ..., 0., 0., 0.]])\n  batch_dim = 0\nThis BatchTracer with object id 140283539435328 was created on line:\n  /var/folders/7p/jp6xqkvn5wb6ddl1fn0bhs980000gn/T/ipykernel_90878/2888077412.py:7 (<module>)\nSee https://jax.readthedocs.io/en/latest/errors.html#jax.errors.TracerArrayConversionError",
     "output_type": "error",
     "traceback": [
      "\u001b[0;31m---------------------------------------------------------------------------\u001b[0m",
      "\u001b[0;31mTracerArrayConversionError\u001b[0m                Traceback (most recent call last)",
      "Cell \u001b[0;32mIn [44], line 7\u001b[0m\n\u001b[1;32m      5\u001b[0m movement     \u001b[39m=\u001b[39m movement_df[movement_df[\u001b[39m\"\u001b[39m\u001b[39mdate\u001b[39m\u001b[39m\"\u001b[39m]\u001b[39m==\u001b[39mdate]\n\u001b[1;32m      6\u001b[0m \u001b[39mprint\u001b[39m(i)\n\u001b[0;32m----> 7\u001b[0m agents_state \u001b[39m=\u001b[39m model_ensemble(agents_state, movement, ward2size, parameters)\n",
      "    \u001b[0;31m[... skipping hidden 3 frame]\u001b[0m\n",
      "Cell \u001b[0;32mIn [42], line 27\u001b[0m, in \u001b[0;36mamr_abm\u001b[0;34m(agents_state, movement, ward2size, parameters)\u001b[0m\n\u001b[1;32m     22\u001b[0m Np  \u001b[39m=\u001b[39m parameters[\u001b[39m\"\u001b[39m\u001b[39mNp\u001b[39m\u001b[39m\"\u001b[39m]    \u001b[39m# number of patients\u001b[39;00m\n\u001b[1;32m     24\u001b[0m \u001b[39m# Decolonize patients according to. P(C2S) = α\u001b[39;00m\n\u001b[1;32m     25\u001b[0m \u001b[39m#agents_state.at[:].set(np.maximum(agents_state - agents_state * (random.uniform(key=key, shape=(Np, )) < α), 0))\u001b[39;00m\n\u001b[1;32m     26\u001b[0m \u001b[39m#agents_state = agents_state - agents_state * (onp.random.uniform(size=(Np, )) < α)\u001b[39;00m\n\u001b[0;32m---> 27\u001b[0m agents_state \u001b[39m=\u001b[39m np\u001b[39m.\u001b[39;49madd(agents_state, \u001b[39m-\u001b[39;49m agents_state \u001b[39m*\u001b[39;49m (onp\u001b[39m.\u001b[39;49mrandom\u001b[39m.\u001b[39;49muniform(size\u001b[39m=\u001b[39;49m(Np, )) \u001b[39m<\u001b[39;49m α))\n\u001b[1;32m     28\u001b[0m agents_state \u001b[39m=\u001b[39m np\u001b[39m.\u001b[39mclip(agents_state, \u001b[39m0\u001b[39m, \u001b[39m1\u001b[39m)\n\u001b[1;32m     30\u001b[0m \u001b[39m# import patients.\u001b[39;00m\n",
      "File \u001b[0;32m~/anaconda3/envs/pompjax/lib/python3.8/site-packages/jax/_src/core.py:557\u001b[0m, in \u001b[0;36mTracer.__array__\u001b[0;34m(self, *args, **kw)\u001b[0m\n\u001b[1;32m    556\u001b[0m \u001b[39mdef\u001b[39;00m \u001b[39m__array__\u001b[39m(\u001b[39mself\u001b[39m, \u001b[39m*\u001b[39margs, \u001b[39m*\u001b[39m\u001b[39m*\u001b[39mkw):\n\u001b[0;32m--> 557\u001b[0m   \u001b[39mraise\u001b[39;00m TracerArrayConversionError(\u001b[39mself\u001b[39m)\n",
      "\u001b[0;31mTracerArrayConversionError\u001b[0m: The numpy.ndarray conversion method __array__() was called on the JAX Tracer object Traced<ShapedArray(float32[103510])>with<BatchTrace(level=1/0)> with\n  val = array([[0., 0., 0., ..., 0., 0., 0.],\n       [0., 0., 0., ..., 0., 0., 0.]])\n  batch_dim = 0\nThis BatchTracer with object id 140283539435328 was created on line:\n  /var/folders/7p/jp6xqkvn5wb6ddl1fn0bhs980000gn/T/ipykernel_90878/2888077412.py:7 (<module>)\nSee https://jax.readthedocs.io/en/latest/errors.html#jax.errors.TracerArrayConversionError"
     ]
    }
   ],
   "source": [
    "model_ensemble = vmap(amr_abm, in_axes=(0, None, None, None))\n",
    "agents_state   = np.zeros((2, movement_df.mrn_id.unique().shape[0]))\n",
    "\n",
    "for i, date in enumerate(dates_simulation):\n",
    "    movement     = movement_df[movement_df[\"date\"]==date]\n",
    "    print(i)\n",
    "    agents_state = model_ensemble(agents_state, movement, ward2size, parameters)\n"
   ]
  },
  {
   "cell_type": "code",
   "execution_count": null,
   "metadata": {},
   "outputs": [],
   "source": []
  }
 ],
 "metadata": {
  "kernelspec": {
   "display_name": "pompjax",
   "language": "python",
   "name": "python3"
  },
  "language_info": {
   "codemirror_mode": {
    "name": "ipython",
    "version": 3
   },
   "file_extension": ".py",
   "mimetype": "text/x-python",
   "name": "python",
   "nbconvert_exporter": "python",
   "pygments_lexer": "ipython3",
   "version": "3.8.13"
  },
  "orig_nbformat": 4,
  "vscode": {
   "interpreter": {
    "hash": "e23b8103492689b0d9748b47018d3861a561878402e3a1e7a565e9dcb2ea3867"
   }
  }
 },
 "nbformat": 4,
 "nbformat_minor": 2
}
