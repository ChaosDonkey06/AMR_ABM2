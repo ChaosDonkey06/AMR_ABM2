{
 "cells": [
  {
   "cell_type": "code",
   "execution_count": 1,
   "metadata": {},
   "outputs": [],
   "source": [
    "from scipy.stats import truncnorm\n",
    "import pandas as pd\n",
    "import numpy as onp\n",
    "import itertools\n",
    "import datetime\n",
    "import tqdm\n",
    "import sys\n",
    "import os\n",
    "\n",
    "import jax.numpy as np\n",
    "\n",
    "def flatten_list(list_array):\n",
    "    return list(itertools.chain(*list_array))\n",
    "\n",
    "sys.path.insert(0,\"../\")\n",
    "from global_config import config\n",
    "\n",
    "results_dir           = config.get_property('results_dir')\n",
    "data_dir              = config.get_property('data_dir')\n",
    "paper_dir             = config.get_property('paper_dir')\n",
    "data_db_dir           = config.get_property('data_db_dir')\n",
    "feb_hosp_records_path = os.path.join(data_db_dir, 'long_files_8_25_2021')\n",
    "path_to_save          = os.path.join(results_dir, \"real_testing\", \"community\")\n",
    "\n",
    "\n",
    "COLOR_LIST1 = [\"#F8AFA8\", \"#FDDDA0\", \"#F5CDB4\", \"#74A089\"]"
   ]
  },
  {
   "cell_type": "code",
   "execution_count": 2,
   "metadata": {},
   "outputs": [],
   "source": [
    "\n",
    "path_to_data = os.path.join('..', 'data')\n",
    "\n",
    "date_min            = pd.to_datetime(\"2020-02-01\")\n",
    "date_max            = pd.to_datetime(\"2021-02-28\")\n",
    "\n",
    "dates_simulation    = pd.date_range(start=date_min, end=date_max)\n",
    "#patient_movement_df = pd.read_csv(os.path.join(path_to_data, 'patient_movement_2022-Nov.csv'), index_col=None)\n",
    "#patient_movement_df = pd.read_csv(os.path.join(path_to_data, 'patient_movement_2023-Feb.csv'), index_col=None)\n",
    "#patient_movement_df = pd.read_csv(os.path.join(path_to_data, 'patient_data_Feb_21_2023.csv'), index_col=None)\n",
    "\n",
    "patient_df = pd.read_csv(os.path.join(data_db_dir, \"long_files_8_25_2021\", \"patient_movement_2022-Nov.csv\"), parse_dates=['date'])\n",
    "patient_df = patient_df.drop_duplicates(['date','mrn'])\n",
    "\n",
    "#duplicated_pos_tests = (patient_df[['mrn','organism_name']].duplicated() & ~patient_df['organism_name'].isnull())\n",
    "duplicated_pos_tests = (patient_df[['encounter_id','organism_name']].duplicated() & ~patient_df['organism_name'].isnull())\n",
    "\n",
    "patient_df.loc[duplicated_pos_tests,'test']          = 0\n",
    "patient_df.loc[duplicated_pos_tests,'organism_name'] = np.nan\n"
   ]
  },
  {
   "cell_type": "code",
   "execution_count": 3,
   "metadata": {},
   "outputs": [
    {
     "name": "stderr",
     "output_type": "stream",
     "text": [
      "/var/folders/7p/jp6xqkvn5wb6ddl1fn0bhs980000gn/T/ipykernel_25785/347433741.py:3: SettingWithCopyWarning: \n",
      "A value is trying to be set on a copy of a slice from a DataFrame.\n",
      "Try using .loc[row_indexer,col_indexer] = value instead\n",
      "\n",
      "See the caveats in the documentation: https://pandas.pydata.org/pandas-docs/stable/user_guide/indexing.html#returning-a-view-versus-a-copy\n",
      "  patient_movement_df[\"ward_long\"] = patient_movement_df.apply(lambda x: x[\"place\"]+\"-\"+x[\"building\"]+\"-\"+x[\"ward\"], axis=1)\n",
      "/var/folders/7p/jp6xqkvn5wb6ddl1fn0bhs980000gn/T/ipykernel_25785/347433741.py:4: SettingWithCopyWarning: \n",
      "A value is trying to be set on a copy of a slice from a DataFrame.\n",
      "Try using .loc[row_indexer,col_indexer] = value instead\n",
      "\n",
      "See the caveats in the documentation: https://pandas.pydata.org/pandas-docs/stable/user_guide/indexing.html#returning-a-view-versus-a-copy\n",
      "  patient_movement_df[\"date\"]      = pd.to_datetime(patient_movement_df[\"date\"])\n",
      "/var/folders/7p/jp6xqkvn5wb6ddl1fn0bhs980000gn/T/ipykernel_25785/347433741.py:23: SettingWithCopyWarning: \n",
      "A value is trying to be set on a copy of a slice from a DataFrame.\n",
      "Try using .loc[row_indexer,col_indexer] = value instead\n",
      "\n",
      "See the caveats in the documentation: https://pandas.pydata.org/pandas-docs/stable/user_guide/indexing.html#returning-a-view-versus-a-copy\n",
      "  patient_movement_df[\"mrn_id\"]  = patient_movement_df[\"mrn\"].map(mrn2id)\n",
      "/var/folders/7p/jp6xqkvn5wb6ddl1fn0bhs980000gn/T/ipykernel_25785/347433741.py:24: SettingWithCopyWarning: \n",
      "A value is trying to be set on a copy of a slice from a DataFrame.\n",
      "Try using .loc[row_indexer,col_indexer] = value instead\n",
      "\n",
      "See the caveats in the documentation: https://pandas.pydata.org/pandas-docs/stable/user_guide/indexing.html#returning-a-view-versus-a-copy\n",
      "  patient_movement_df[\"ward_id\"] = patient_movement_df[\"ward_long\"].map(ward2num)\n"
     ]
    }
   ],
   "source": [
    "patient_movement_df = patient_df[[\"date\", \"first_day\", \"test\", \"encounter_id\", \"mrn\", \"place\", \"building\", \"ward\", \"type_discharge\",\n",
    "                                            \"type_facility\", \"procedure_description\", \"specimen_group\", \"organism_name\", \"specimen\"]]\n",
    "patient_movement_df[\"ward_long\"] = patient_movement_df.apply(lambda x: x[\"place\"]+\"-\"+x[\"building\"]+\"-\"+x[\"ward\"], axis=1)\n",
    "patient_movement_df[\"date\"]      = pd.to_datetime(patient_movement_df[\"date\"])\n",
    "\n",
    "#####\n",
    "ward2num            = patient_movement_df[[\"place\", \"building\", \"ward\"]].drop_duplicates().reset_index(drop=True)\n",
    "ward2num[\"ward\"]    = ward2num.apply(lambda x: x[\"place\"]+\"-\"+x[\"building\"]+\"-\"+x[\"ward\"], axis=1)\n",
    "ward2num[\"ward_id\"] = list(range(len(ward2num)))\n",
    "ward2num            = {row.ward: row.ward_id for idx, row in ward2num.iterrows()}\n",
    "#####\n",
    "\n",
    "#####\n",
    "num2ward            = {ward2num[kew_row]: kew_row  for kew_row in ward2num.keys()}\n",
    "#####\n",
    "\n",
    "#####\n",
    "mrn2id            = patient_movement_df[[\"mrn\"]].drop_duplicates().reset_index(drop=True)\n",
    "mrn2id[\"mrn_id\"]  = list(range(len(mrn2id)))\n",
    "mrn2id            = {row.mrn: row.mrn_id for idx, row in mrn2id.iterrows()}\n",
    "#####\n",
    "\n",
    "patient_movement_df[\"mrn_id\"]  = patient_movement_df[\"mrn\"].map(mrn2id)\n",
    "patient_movement_df[\"ward_id\"] = patient_movement_df[\"ward_long\"].map(ward2num)\n",
    "\n",
    "patient_movement_df = patient_movement_df.drop(columns=[\"ward_long\", \"mrn\"])\n",
    "patient_movement_df = patient_movement_df[[\"date\", \"first_day\", \"test\", \"encounter_id\", \"mrn_id\", \"ward_id\", \"place\", \"building\", \"ward\", \"type_discharge\",\n",
    "                                            \"type_facility\", \"procedure_description\", \"specimen_group\", \"organism_name\", \"specimen\"]]\n",
    "\n",
    "patient_movement_df[\"ward_total\"] = patient_movement_df.apply(lambda x: x[\"place\"]+\"-\"+x[\"building\"]+\"-\"+x[\"ward\"], axis=1)"
   ]
  },
  {
   "cell_type": "code",
   "execution_count": 4,
   "metadata": {},
   "outputs": [
    {
     "name": "stderr",
     "output_type": "stream",
     "text": [
      " 36%|███▌      | 141/393 [11:19<37:07,  8.84s/it]"
     ]
    }
   ],
   "source": [
    "movement_df           = patient_movement_df.copy() # Movement between pair of wards\n",
    "movement_df.first_day = 0\n",
    "\n",
    "wards              = patient_movement_df.ward_total.unique()\n",
    "counts_ward_df     = pd.DataFrame(columns=[\"date\", \"ward_total\", \"num_admitted\",\n",
    "                                                \"num_discharged\", \"num_hospitalized\", \"num_tested\", \"num_outpatients\"])\n",
    "\n",
    "transfered_ward_df = pd.DataFrame(columns=[\"date\", \"ward_from\", \"ward_to\",\"num_transfered\"])\n",
    "\n",
    "\n",
    "today         = dates_simulation[0]\n",
    "today_df      = movement_df[movement_df[\"date\"]==today]\n",
    "\n",
    "for ward in wards:\n",
    "    admitted_num     = len(today_df)\n",
    "    discharged_num   = 0\n",
    "    hospitalized     = today_df[today_df.ward_total==ward]\n",
    "    hospitalized_num = hospitalized.shape[0]\n",
    "    tested_num       = hospitalized[hospitalized.test==1].shape[0]\n",
    "    outpatients_num  = hospitalized[hospitalized.type_facility=='Outpatient'].shape[0]\n",
    "    counts_ward_df   = pd.concat([counts_ward_df,\n",
    "                                    pd.DataFrame([[today, ward, admitted_num, discharged_num, hospitalized_num, tested_num, outpatients_num]],\n",
    "                                    columns=[\"date\", \"ward\", \"num_admitted\", \"num_discharged\", \"num_hospitalized\", \"num_tested\", \"num_outpatients\"])])\n",
    "\n",
    "\n",
    "for date in tqdm.tqdm(dates_simulation[1:]):\n",
    "\n",
    "    today     = pd.to_datetime(date)\n",
    "    yesterday = pd.to_datetime(date) + datetime.timedelta(days=-1)\n",
    "\n",
    "    today_df     = movement_df[movement_df[\"date\"]==today]\n",
    "    yesterday_df = movement_df[movement_df[\"date\"]==yesterday]\n",
    "\n",
    "    mrns_today     = today_df.mrn_id.unique()    # people that were in the hospital today\n",
    "    mrns_yesterday = yesterday_df.mrn_id.unique() # people that were in the hospital yesterday\n",
    "\n",
    "    mrns_today_and_yesterday = list(set(mrns_today) & set(mrns_yesterday)) # people that were in both days (i.e. they stayed in the hospital)\n",
    "\n",
    "    discharged_df = yesterday_df[~yesterday_df.mrn_id.isin(mrns_today)]\n",
    "    admitted_df   = today_df[~today_df.mrn_id.isin(mrns_yesterday)]\n",
    "\n",
    "    movement_df.loc[admitted_df.index.values,'first_day'] = 1\n",
    "\n",
    "    transfered_today_df     = today_df[today_df.mrn_id.isin(mrns_today_and_yesterday)]\n",
    "    transfered_yesterday_df = yesterday_df[yesterday_df.mrn_id.isin(mrns_today_and_yesterday)]\n",
    "\n",
    "    transfered_df           = pd.merge(transfered_yesterday_df[['mrn_id','ward_total']], transfered_today_df[['mrn_id','ward_total']], on='mrn_id')\n",
    "    transfered_df           = transfered_df[transfered_df.ward_total_x!=transfered_df.ward_total_y]\n",
    "    transfered_df           = transfered_df.groupby(['ward_total_x','ward_total_y']).count()\n",
    "    transfered_df           = transfered_df.reset_index()\n",
    "    transfered_df           = transfered_df.rename(columns={'ward_total_x':'ward_from','ward_total_y':'ward_to','mrn_id':'num_transfered'})\n",
    "    transfered_df['date']   = date\n",
    "    transfered_ward_df      = pd.concat([transfered_ward_df, transfered_df], ignore_index=True)\n",
    "\n",
    "    for ward in wards:\n",
    "        admitted_num     = admitted_df[admitted_df.ward_total==ward].shape[0]\n",
    "        discharged_num   = discharged_df[discharged_df.ward_total==ward].shape[0]\n",
    "        hospitalized     = today_df[today_df.ward_total==ward]\n",
    "        hospitalized_num = hospitalized.shape[0]\n",
    "        tested_num       = hospitalized[hospitalized.test==1].shape[0]\n",
    "        outpatients_num  = hospitalized[hospitalized.type_facility=='Outpatient'].shape[0]\n",
    "        counts_ward_df   = pd.concat([counts_ward_df,\n",
    "                                        pd.DataFrame([[date, ward, admitted_num, discharged_num, hospitalized_num, tested_num, outpatients_num]],\n",
    "                                        columns=[\"date\", \"ward\", \"num_admitted\", \"num_discharged\", \"num_hospitalized\", \"num_tested\", \"num_outpatients\"])])\n",
    "\n"
   ]
  },
  {
   "cell_type": "code",
   "execution_count": null,
   "metadata": {},
   "outputs": [],
   "source": [
    "counts_ward_df.to_csv(     os.path.join(data_db_dir, \"long_files_8_25_2021\", \"counts_ward.csv\" ),   index=False)\n",
    "transfered_ward_df.to_csv( os.path.join(data_db_dir, \"long_files_8_25_2021\", \"transfers_ward.csv\"), index=False)\n"
   ]
  },
  {
   "cell_type": "code",
   "execution_count": null,
   "metadata": {},
   "outputs": [],
   "source": [
    "counts_ward_df"
   ]
  },
  {
   "cell_type": "code",
   "execution_count": null,
   "metadata": {},
   "outputs": [],
   "source": []
  }
 ],
 "metadata": {
  "kernelspec": {
   "display_name": "Python (POMPJAX)",
   "language": "python",
   "name": "pompjax"
  },
  "language_info": {
   "codemirror_mode": {
    "name": "ipython",
    "version": 3
   },
   "file_extension": ".py",
   "mimetype": "text/x-python",
   "name": "python",
   "nbconvert_exporter": "python",
   "pygments_lexer": "ipython3",
   "version": "3.8.13"
  },
  "orig_nbformat": 4,
  "vscode": {
   "interpreter": {
    "hash": "e23b8103492689b0d9748b47018d3861a561878402e3a1e7a565e9dcb2ea3867"
   }
  }
 },
 "nbformat": 4,
 "nbformat_minor": 2
}
