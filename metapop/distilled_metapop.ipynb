{
 "cells": [
  {
   "cell_type": "code",
   "execution_count": 16,
   "metadata": {},
   "outputs": [],
   "source": [
    "import pandas as pd\n",
    "import numpy as np"
   ]
  },
  {
   "cell_type": "code",
   "execution_count": 22,
   "metadata": {},
   "outputs": [],
   "source": [
    "def binomial_transition(n, prob, m):\n",
    "    return np.random.binomial(n, prob, m)\n",
    "\n",
    "def poisson_transition(n, rate, m):\n",
    "    return np.random.poisson(np.nan_to_num(n * rate), m)\n",
    "\n",
    "transition_b = lambda n, prob, m: binomial_transition(n, prob, m)\n",
    "transition_p = lambda n, rate, m: poisson_transition(n, rate, m)\n",
    "\n",
    "\n",
    "model_settings            = {}\n",
    "model_settings[\"m\"]       = 100\n",
    "model_settings[\"num_pop\"] = 2\n",
    "\n",
    "N0 = np.array([[1e3], [1.5e3]]) * np.ones((model_settings[\"num_pop\"], model_settings[\"m\"]))\n",
    "C0 = 0.05 * np.ones((model_settings[\"num_pop\"], model_settings[\"m\"]))\n"
   ]
  },
  {
   "cell_type": "code",
   "execution_count": 23,
   "metadata": {},
   "outputs": [],
   "source": [
    "m       = model_settings[\"m\"]\n",
    "num_pop = model_settings[\"num_pop\"]\n",
    "\n",
    "N       = N0\n",
    "C       = C0 * N\n",
    "\n",
    "a2c    = np.zeros((num_pop, m))\n",
    "inc    = np.zeros((num_pop, m))\n",
    "\n",
    "x0     = np.array([C, a2c, inc]) # [num_state_vars x num_pop x m]"
   ]
  },
  {
   "attachments": {},
   "cell_type": "markdown",
   "metadata": {},
   "source": [
    "# the movement model\n",
    "\n",
    "M is a matrix of [np, np] and C and N vectors of size [np, m].\n",
    "\n",
    "Mij = individuals moving for i to j.\n",
    "\n",
    "1. Colonized ppl moving outside unit i. The people moving outside of unit i are $\\sum_j M_{ij}$.\n",
    "\n",
    "    $C_{i}^{out}= \\sum_j M_{ij} \\frac{C_i}{N_i}$\n",
    "\n",
    "    In code it will be\n",
    "    ```\n",
    "    Cout_i = np.sum(M[i, :]) * C[i, :]/N[i, :]\n",
    "    ```\n",
    "    So for putting all the people in a matix it will be\n",
    "    ```\n",
    "    Cout = np.sum(M, axis=1, keepdims=True) * C / N\n",
    "    ```\n",
    "\n",
    "\n",
    "\n",
    "I want a matrix operator"
   ]
  },
  {
   "cell_type": "code",
   "execution_count": 71,
   "metadata": {},
   "outputs": [],
   "source": [
    "M = np.random.uniform(size=(num_pop, num_pop))\n"
   ]
  },
  {
   "cell_type": "code",
   "execution_count": 85,
   "metadata": {},
   "outputs": [
    {
     "data": {
      "text/plain": [
       "(2, 100)"
      ]
     },
     "execution_count": 85,
     "metadata": {},
     "output_type": "execute_result"
    }
   ],
   "source": [
    "Cout = np.sum(M, axis=1, keepdims=True)  * np.clip(np.nan_to_num(C/N), 0, 1)\n"
   ]
  },
  {
   "cell_type": "code",
   "execution_count": 39,
   "metadata": {},
   "outputs": [],
   "source": [
    "x = x0\n",
    "# process\n",
    "\n",
    "C = x[0, :, :]           # col in all populations\n",
    "S = np.clip(N - C, 0, N) # sus in all populations"
   ]
  },
  {
   "cell_type": "code",
   "execution_count": 61,
   "metadata": {},
   "outputs": [
    {
     "data": {
      "text/plain": [
       "array([0.05, 0.05, 0.05, 0.05, 0.05, 0.05, 0.05, 0.05, 0.05, 0.05, 0.05,\n",
       "       0.05, 0.05, 0.05, 0.05, 0.05, 0.05, 0.05, 0.05, 0.05, 0.05, 0.05,\n",
       "       0.05, 0.05, 0.05, 0.05, 0.05, 0.05, 0.05, 0.05, 0.05, 0.05, 0.05,\n",
       "       0.05, 0.05, 0.05, 0.05, 0.05, 0.05, 0.05, 0.05, 0.05, 0.05, 0.05,\n",
       "       0.05, 0.05, 0.05, 0.05, 0.05, 0.05, 0.05, 0.05, 0.05, 0.05, 0.05,\n",
       "       0.05, 0.05, 0.05, 0.05, 0.05, 0.05, 0.05, 0.05, 0.05, 0.05, 0.05,\n",
       "       0.05, 0.05, 0.05, 0.05, 0.05, 0.05, 0.05, 0.05, 0.05, 0.05, 0.05,\n",
       "       0.05, 0.05, 0.05, 0.05, 0.05, 0.05, 0.05, 0.05, 0.05, 0.05, 0.05,\n",
       "       0.05, 0.05, 0.05, 0.05, 0.05, 0.05, 0.05, 0.05, 0.05, 0.05, 0.05,\n",
       "       0.05])"
      ]
     },
     "execution_count": 61,
     "metadata": {},
     "output_type": "execute_result"
    }
   ],
   "source": [
    "np.clip(np.nan_to_num(C[i, :] / N[i, :]),0,1)"
   ]
  },
  {
   "cell_type": "code",
   "execution_count": 60,
   "metadata": {},
   "outputs": [
    {
     "data": {
      "text/plain": [
       "array([0.02934204, 0.02934204, 0.02934204, 0.02934204, 0.02934204,\n",
       "       0.02934204, 0.02934204, 0.02934204, 0.02934204, 0.02934204,\n",
       "       0.02934204, 0.02934204, 0.02934204, 0.02934204, 0.02934204,\n",
       "       0.02934204, 0.02934204, 0.02934204, 0.02934204, 0.02934204,\n",
       "       0.02934204, 0.02934204, 0.02934204, 0.02934204, 0.02934204,\n",
       "       0.02934204, 0.02934204, 0.02934204, 0.02934204, 0.02934204,\n",
       "       0.02934204, 0.02934204, 0.02934204, 0.02934204, 0.02934204,\n",
       "       0.02934204, 0.02934204, 0.02934204, 0.02934204, 0.02934204,\n",
       "       0.02934204, 0.02934204, 0.02934204, 0.02934204, 0.02934204,\n",
       "       0.02934204, 0.02934204, 0.02934204, 0.02934204, 0.02934204,\n",
       "       0.02934204, 0.02934204, 0.02934204, 0.02934204, 0.02934204,\n",
       "       0.02934204, 0.02934204, 0.02934204, 0.02934204, 0.02934204,\n",
       "       0.02934204, 0.02934204, 0.02934204, 0.02934204, 0.02934204,\n",
       "       0.02934204, 0.02934204, 0.02934204, 0.02934204, 0.02934204,\n",
       "       0.02934204, 0.02934204, 0.02934204, 0.02934204, 0.02934204,\n",
       "       0.02934204, 0.02934204, 0.02934204, 0.02934204, 0.02934204,\n",
       "       0.02934204, 0.02934204, 0.02934204, 0.02934204, 0.02934204,\n",
       "       0.02934204, 0.02934204, 0.02934204, 0.02934204, 0.02934204,\n",
       "       0.02934204, 0.02934204, 0.02934204, 0.02934204, 0.02934204,\n",
       "       0.02934204, 0.02934204, 0.02934204, 0.02934204, 0.02934204])"
      ]
     },
     "execution_count": 60,
     "metadata": {},
     "output_type": "execute_result"
    }
   ],
   "source": [
    "M[i,j] * C[i, :] / N[i, :]"
   ]
  },
  {
   "cell_type": "code",
   "execution_count": null,
   "metadata": {},
   "outputs": [],
   "source": []
  }
 ],
 "metadata": {
  "kernelspec": {
   "display_name": "Python (POMPJAX)",
   "language": "python",
   "name": "pompjax"
  },
  "language_info": {
   "codemirror_mode": {
    "name": "ipython",
    "version": 3
   },
   "file_extension": ".py",
   "mimetype": "text/x-python",
   "name": "python",
   "nbconvert_exporter": "python",
   "pygments_lexer": "ipython3",
   "version": "3.8.13"
  },
  "orig_nbformat": 4
 },
 "nbformat": 4,
 "nbformat_minor": 2
}
